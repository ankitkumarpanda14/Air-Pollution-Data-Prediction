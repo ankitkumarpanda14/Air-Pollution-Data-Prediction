{
  "nbformat": 4,
  "nbformat_minor": 0,
  "metadata": {
    "colab": {
      "name": "talcherNotebookANNPM10.ipynb",
      "provenance": []
    },
    "kernelspec": {
      "name": "python3",
      "display_name": "Python 3"
    }
  },
  "cells": [
    {
      "cell_type": "code",
      "metadata": {
        "id": "Y5NwIraXYddS",
        "colab_type": "code",
        "colab": {}
      },
      "source": [
        "import pandas as pd          \n",
        "import numpy as np          # For mathematical calculations\n",
        "import matplotlib.pyplot as plt  # For plotting graphs\n",
        "from datetime import datetime    # To access datetime\n",
        "from pandas import Series        # To work on series\n",
        "import matplotlib\n",
        "import warnings                   # To ignore the warnings\n",
        "warnings.filterwarnings(\"ignore\")\n",
        "from math import sqrt\n",
        "from sklearn.metrics import mean_squared_error\n",
        "from numpy import array"
      ],
      "execution_count": null,
      "outputs": []
    },
    {
      "cell_type": "code",
      "metadata": {
        "id": "vBB5LibhNfy3",
        "colab_type": "code",
        "colab": {}
      },
      "source": [
        "df = pd.read_excel('Talcher_data.xlsx')\n",
        "df = df.drop(['To Date', 'Unnamed: 0'],axis = 1)\n",
        "df.head()"
      ],
      "execution_count": null,
      "outputs": []
    },
    {
      "cell_type": "code",
      "metadata": {
        "id": "hxRra2SgNurv",
        "colab_type": "code",
        "colab": {}
      },
      "source": [
        "df.dtypes\n"
      ],
      "execution_count": null,
      "outputs": []
    },
    {
      "cell_type": "code",
      "metadata": {
        "id": "fZFgN_qqYNSd",
        "colab_type": "code",
        "colab": {}
      },
      "source": [
        "df.reset_index(inplace = True)\n",
        "df = df.drop(['index'], axis = 1)\n",
        "df['From Date'] = pd.to_datetime(df['From Date'])\n",
        "df['From Date'] = pd.to_datetime(df['From Date'])\n",
        "\n",
        "\n",
        "df.dtypes\n",
        "df.head()"
      ],
      "execution_count": null,
      "outputs": []
    },
    {
      "cell_type": "code",
      "metadata": {
        "id": "RtHjtsLZYi0y",
        "colab_type": "code",
        "colab": {}
      },
      "source": [
        "#Set the date as Index\n",
        "df = df.set_index(df['From Date'],drop = True)\n",
        "df = df.sort_index()\n",
        "\n",
        "#Take the mean of each day \n",
        "df = df.resample('d').mean()\n",
        "df.head()\n",
        "#Removing the outlier\n",
        "df = df['2018-01':'2020-02']\n",
        "df_ospcb = df.copy()\n",
        "\n",
        "df_ospcb.head()"
      ],
      "execution_count": null,
      "outputs": []
    },
    {
      "cell_type": "code",
      "metadata": {
        "id": "6UkSazzPssno",
        "colab_type": "code",
        "colab": {}
      },
      "source": [
        "date_series = df_ospcb.index\n",
        "date_series"
      ],
      "execution_count": null,
      "outputs": []
    },
    {
      "cell_type": "code",
      "metadata": {
        "id": "2QjIpI5Jqc6x",
        "colab_type": "code",
        "colab": {}
      },
      "source": [
        "print(df_ospcb.columns)"
      ],
      "execution_count": null,
      "outputs": []
    },
    {
      "cell_type": "code",
      "metadata": {
        "id": "jKtVV_OQZAek",
        "colab_type": "code",
        "colab": {}
      },
      "source": [
        "from sklearn.impute import KNNImputer"
      ],
      "execution_count": null,
      "outputs": []
    },
    {
      "cell_type": "code",
      "metadata": {
        "id": "imB_zaTsZfrV",
        "colab_type": "code",
        "colab": {}
      },
      "source": [
        "from matplotlib.pylab import rcParams\n",
        "rcParams['figure.figsize'] = 15,8\n",
        "\n",
        "plt.plot(df_ospcb['PM10'])"
      ],
      "execution_count": null,
      "outputs": []
    },
    {
      "cell_type": "code",
      "metadata": {
        "id": "ITDGk2MeZLq3",
        "colab_type": "code",
        "colab": {}
      },
      "source": [
        "imputer = KNNImputer(n_neighbors=200, weights='distance')\n",
        "df_ospcb_imputed_knn = imputer.fit_transform(df_ospcb)"
      ],
      "execution_count": null,
      "outputs": []
    },
    {
      "cell_type": "code",
      "metadata": {
        "id": "fwGAC-r6hajm",
        "colab_type": "code",
        "colab": {}
      },
      "source": [
        "plt.plot(df_ospcb_imputed_knn[:, 1])"
      ],
      "execution_count": null,
      "outputs": []
    },
    {
      "cell_type": "code",
      "metadata": {
        "id": "C0M-GWPqeCvZ",
        "colab_type": "code",
        "colab": {}
      },
      "source": [
        "df_ospcb_after_impute = pd.DataFrame(data = df_ospcb_imputed_knn, columns = df_ospcb.columns)\n",
        "df_ospcb_after_impute.head()"
      ],
      "execution_count": null,
      "outputs": []
    },
    {
      "cell_type": "code",
      "metadata": {
        "id": "Yp5p8WjWrKtH",
        "colab_type": "code",
        "colab": {}
      },
      "source": [
        "df_ospcb_after_impute['Date'] = date_series\n",
        "df_ospcb_after_impute.head()"
      ],
      "execution_count": null,
      "outputs": []
    },
    {
      "cell_type": "code",
      "metadata": {
        "id": "ffzbSMVHtIXh",
        "colab_type": "code",
        "colab": {}
      },
      "source": [
        "#Set the date as Index\n",
        "df_ospcb_after_impute = df_ospcb_after_impute.set_index(df_ospcb_after_impute['Date'], drop = True)\n",
        "df_ospcb_after_impute = df_ospcb_after_impute.sort_index()\n",
        "df_ospcb_after_impute.head()"
      ],
      "execution_count": null,
      "outputs": []
    },
    {
      "cell_type": "code",
      "metadata": {
        "id": "Yh86cemWtalh",
        "colab_type": "code",
        "colab": {}
      },
      "source": [
        "df_ospcb_after_impute = df_ospcb_after_impute.drop(['Date'], axis = 1)\n",
        "df_ospcb_after_impute.head()"
      ],
      "execution_count": null,
      "outputs": []
    },
    {
      "cell_type": "code",
      "metadata": {
        "id": "rXdsS-YNuGmj",
        "colab_type": "code",
        "colab": {}
      },
      "source": [
        "df_index_list = df_ospcb_after_impute.index.values\n",
        "years = pd.DatetimeIndex(df_index_list)\n",
        "list_year = years.year\n",
        "list_month = years.month\n",
        "list_day = years.day\n",
        "list_dayOfWeek = years.dayofweek\n",
        "df_ospcb_after_impute['year'] = list_year \n",
        "df_ospcb_after_impute['month'] = list_month \n",
        "df_ospcb_after_impute['day'] = list_day\n",
        "df_ospcb_after_impute['day_of_week'] = list_dayOfWeek\n",
        "\n",
        "#Determining Weekend\n",
        "def weekend(row):\n",
        "   if (row == 5) or (row == 6):\n",
        "       return 1\n",
        "   else:\n",
        "       return 0\n",
        "\n",
        "df_ospcb_after_impute['weekend'] = df_ospcb_after_impute['day_of_week'].apply(weekend)\n",
        "df_ospcb_after_impute.head()"
      ],
      "execution_count": null,
      "outputs": []
    },
    {
      "cell_type": "code",
      "metadata": {
        "id": "9RItE4rFv7Ih",
        "colab_type": "code",
        "colab": {}
      },
      "source": [
        "mean_ospcb = df_ospcb_after_impute['PM10'].min()\n",
        "std_dev_ospcb = df_ospcb_after_impute['PM10'].max() - df_ospcb_after_impute['PM10'].min()\n",
        "\n",
        "cols = ['PM10','PM2.5','WS','WD','AT','RH','year','month','day','day_of_week','weekend']\n",
        "for field in ['PM10','PM2.5','WS','WD','AT','RH']:    \n",
        "   df_ospcb_after_impute[field][df_ospcb_after_impute[field] > (df_ospcb_after_impute[field].mean() + 1.5*df_ospcb_after_impute[field].std())] = np.nan\n"
      ],
      "execution_count": null,
      "outputs": []
    },
    {
      "cell_type": "code",
      "metadata": {
        "id": "Lz3hljOrxF9x",
        "colab_type": "code",
        "colab": {}
      },
      "source": [
        "for field in cols:\n",
        "   print(field, df_ospcb_after_impute[field].isna().sum())"
      ],
      "execution_count": null,
      "outputs": []
    },
    {
      "cell_type": "code",
      "metadata": {
        "id": "1aH-ReljxS8F",
        "colab_type": "code",
        "colab": {}
      },
      "source": [
        "plt.plot(df_ospcb_after_impute['PM10'])"
      ],
      "execution_count": null,
      "outputs": []
    },
    {
      "cell_type": "code",
      "metadata": {
        "id": "YXAZx4vfxi6q",
        "colab_type": "code",
        "colab": {}
      },
      "source": [
        "for field in ['PM10','PM2.5','WS','WD','AT','RH']:\n",
        "   df_ospcb_after_impute[field] = df_ospcb_after_impute[field].interpolate(method = 'spline', order = 3)\n",
        "plt.plot(df_ospcb_after_impute['PM10'])"
      ],
      "execution_count": null,
      "outputs": []
    },
    {
      "cell_type": "code",
      "metadata": {
        "id": "GXVp3-B4yBTW",
        "colab_type": "code",
        "colab": {}
      },
      "source": [
        "for field in cols:\n",
        "   print(field, df_ospcb_after_impute[field].isna().sum())"
      ],
      "execution_count": null,
      "outputs": []
    },
    {
      "cell_type": "code",
      "metadata": {
        "id": "zDt3LWi3NS36",
        "colab_type": "code",
        "colab": {}
      },
      "source": [
        "  #df_ospcb_after_impute =  df_ospcb_after_impute.iloc[1:,:]\n",
        "  df_ospcb_after_impute.head()"
      ],
      "execution_count": null,
      "outputs": []
    },
    {
      "cell_type": "code",
      "metadata": {
        "id": "R6NkSEsZyjLq",
        "colab_type": "code",
        "colab": {}
      },
      "source": [
        "cols = ['PM10','PM2.5','WS','WD','AT','RH','year','month','day','day_of_week','weekend']\n",
        "for field in cols:\n",
        "   df_ospcb_after_impute[field] = (df_ospcb_after_impute[field] - df_ospcb_after_impute[field].min())/(df_ospcb_after_impute[field].max() - df_ospcb_after_impute[field].min())\n",
        "\n",
        "df_ospcb_after_impute = df_ospcb_after_impute[['WS','PM2.5','WD','AT','RH','year','month','day','day_of_week','weekend','PM10']]\n",
        "df_ospcb_after_impute.head()"
      ],
      "execution_count": null,
      "outputs": []
    },
    {
      "cell_type": "code",
      "metadata": {
        "id": "XfAJjgjfzDeV",
        "colab_type": "code",
        "colab": {}
      },
      "source": [
        "def split_sequences(sequences, n_steps_in, n_steps_out):\n",
        "\tX, y = list(), list()\n",
        "\tfor i in range(len(sequences)):\n",
        "\t\t# find the end of this pattern\n",
        "\t\tend_ix = i + n_steps_in\n",
        "\t\tout_end_ix = end_ix + n_steps_out-1\n",
        "\t\t# check if we are beyond the dataset\n",
        "\t\tif out_end_ix > len(sequences):\n",
        "\t\t\tbreak\n",
        "\t\t# gather input and output parts of the pattern\n",
        "\t\tseq_x, seq_y = sequences[i:end_ix, :-1], sequences[end_ix-1:out_end_ix, -1]\n",
        "\t\tX.append(seq_x)\n",
        "\t\ty.append(seq_y)\n",
        "\treturn array(X), array(y)\n",
        "\n",
        "\n",
        "# choose a number of time steps\n",
        "n_steps_in, n_steps_out = 15, 4\n",
        "\n",
        "X, y = split_sequences(df_ospcb_after_impute.values, n_steps_in, n_steps_out)\n",
        "\n",
        "X_test, y_test = X[-1], y[-1]\n",
        "\n",
        "for i in range(n_steps_out):\n",
        "\tX = np.delete(X, X.shape[0] - 1, 0)\n",
        "\ty = np.delete(y, y.shape[0] - 1, 0)\n",
        "\n",
        "n_features = X.shape[2]\n",
        "X_ann = X[:,:,0]"
      ],
      "execution_count": null,
      "outputs": []
    },
    {
      "cell_type": "code",
      "metadata": {
        "id": "XfpAhRyqsbQz",
        "colab_type": "code",
        "colab": {}
      },
      "source": [
        "X.shape"
      ],
      "execution_count": null,
      "outputs": []
    },
    {
      "cell_type": "code",
      "metadata": {
        "id": "idIecfcdsDFC",
        "colab_type": "code",
        "colab": {}
      },
      "source": [
        "X_ann.shape"
      ],
      "execution_count": null,
      "outputs": []
    },
    {
      "cell_type": "code",
      "metadata": {
        "id": "7eBLbwnas1Rw",
        "colab_type": "code",
        "colab": {}
      },
      "source": [
        "n_features"
      ],
      "execution_count": null,
      "outputs": []
    },
    {
      "cell_type": "code",
      "metadata": {
        "id": "B7RkQcj2qjx1",
        "colab_type": "code",
        "colab": {}
      },
      "source": [
        "from keras.models import Sequential\n",
        "from keras.layers import Dense"
      ],
      "execution_count": null,
      "outputs": []
    },
    {
      "cell_type": "code",
      "metadata": {
        "id": "zhrsAxnJqkgX",
        "colab_type": "code",
        "colab": {}
      },
      "source": [
        "model = Sequential()\n",
        "model.add(Dense(256, activation='relu', input_dim= X_ann.shape[1]))\n",
        "model.add(Dense(128, activation='relu'))\n",
        "model.add(Dense(64, activation='relu'))\n",
        "model.add(Dense(64, activation='relu'))\n",
        "model.add(Dense(16, activation='relu'))\n",
        "model.add(Dense(n_steps_out))\n",
        "model.compile(optimizer='SGD', loss='mse')"
      ],
      "execution_count": null,
      "outputs": []
    },
    {
      "cell_type": "code",
      "metadata": {
        "id": "EB_8tGVhrrSG",
        "colab_type": "code",
        "colab": {}
      },
      "source": [
        "from tensorflow.keras.callbacks import EarlyStopping\n",
        "\n",
        "monitor = EarlyStopping(monitor='loss', min_delta=1e-3, patience=50, verbose=1, mode='auto',\n",
        "        restore_best_weights=True)\n",
        "model.fit(X_ann, y, callbacks=[monitor], verbose=2, epochs=2000)"
      ],
      "execution_count": null,
      "outputs": []
    },
    {
      "cell_type": "code",
      "metadata": {
        "id": "87sURxMzT7OX",
        "colab_type": "code",
        "colab": {}
      },
      "source": [
        "X_test = X_test.reshape((1, n_steps_in, n_features))\n",
        "X_test_new = X_test[:,:,0]\n",
        "yhat = model.predict(X_test_new)"
      ],
      "execution_count": null,
      "outputs": []
    },
    {
      "cell_type": "code",
      "metadata": {
        "id": "EmU5WTxDl69Y",
        "colab_type": "code",
        "colab": {}
      },
      "source": [
        "yhat = (yhat[0]*std_dev_ospcb)+mean_ospcb\n",
        "y_test = (y_test*std_dev_ospcb)+mean_ospcb\n",
        "print(yhat)\n",
        "print(y_test)"
      ],
      "execution_count": null,
      "outputs": []
    },
    {
      "cell_type": "code",
      "metadata": {
        "id": "qo6m7AlV1mze",
        "colab_type": "code",
        "colab": {}
      },
      "source": [
        "#Setting default Plot Size\n",
        "from matplotlib.pylab import rcParams\n",
        "rcParams['figure.figsize'] = 15,8\n",
        "\n",
        "# fig, ax = plt.subplots()\n",
        "plt.plot(yhat, label = 'Predicted')\n",
        "plt.plot(y_test, label = 'Original')\n",
        "plt.legend()\n",
        "plt.show()"
      ],
      "execution_count": null,
      "outputs": []
    },
    {
      "cell_type": "code",
      "metadata": {
        "id": "W0j9eCxj_NVi",
        "colab_type": "code",
        "colab": {}
      },
      "source": [
        "from sklearn.metrics import mean_squared_error\n",
        "from sklearn.metrics import mean_absolute_error\n",
        "from math import sqrt\n",
        "def mean_absolute_percentage_error(y_true, y_pred): \n",
        "   return np.mean(np.abs((y_true - y_pred) / y_true)) * 100\n",
        "\n",
        "\n",
        "rms_new = sqrt(mean_squared_error(y_test, yhat))\n",
        "print(rms_new)\n",
        "\n",
        "mse_new = mean_squared_error(y_test, yhat)\n",
        "print(mse_new)\n",
        "\n",
        "mae_new = mean_absolute_error(y_test, yhat)\n",
        "print(mae_new)\n",
        "\n",
        "mape_new = mean_absolute_percentage_error(y_test, yhat)\n",
        "print(mape_new)"
      ],
      "execution_count": null,
      "outputs": []
    },
    {
      "cell_type": "code",
      "metadata": {
        "id": "xCBb-pdGsw0d",
        "colab_type": "code",
        "colab": {}
      },
      "source": [
        ""
      ],
      "execution_count": null,
      "outputs": []
    }
  ]
}