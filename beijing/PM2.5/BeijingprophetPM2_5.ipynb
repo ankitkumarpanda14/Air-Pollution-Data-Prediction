{
  "nbformat": 4,
  "nbformat_minor": 0,
  "metadata": {
    "colab": {
      "name": "beijingprophetPM2.5.ipynb",
      "provenance": [],
      "collapsed_sections": []
    },
    "kernelspec": {
      "name": "python3",
      "display_name": "Python 3"
    }
  },
  "cells": [
    {
      "cell_type": "code",
      "metadata": {
        "id": "Cc1mRWDXkz2O",
        "colab_type": "code",
        "colab": {}
      },
      "source": [
        "#Importing Libraries\n",
        "import pandas as pd          \n",
        "import numpy as np          # For mathematical calculations\n",
        "import matplotlib.pyplot as plt  # For plotting graphs\n",
        "from datetime import datetime    # To access datetime\n",
        "from pandas import Series        # To work on series\n",
        "import matplotlib\n",
        "import warnings                   # To ignore the warnings\n",
        "warnings.filterwarnings(\"ignore\")\n",
        "from math import sqrt\n",
        "from sklearn import metrics\n",
        "from sklearn.metrics import mean_squared_error\n",
        "from sklearn.metrics import mean_absolute_error"
      ],
      "execution_count": 243,
      "outputs": []
    },
    {
      "cell_type": "code",
      "metadata": {
        "id": "T3PUFU2vSj7D",
        "colab_type": "code",
        "colab": {}
      },
      "source": [
        ""
      ],
      "execution_count": 243,
      "outputs": []
    },
    {
      "cell_type": "code",
      "metadata": {
        "id": "R3PeUnunxcb9",
        "colab_type": "code",
        "colab": {
          "base_uri": "https://localhost:8080/",
          "height": 199
        },
        "outputId": "b5b03f11-73d2-4215-a5d7-8c525642a746"
      },
      "source": [
        "df = pd.read_csv('PRSA_data.csv')\n",
        "\n",
        "df = df.drop(['Ir','No','Is'],axis = 1)\n",
        "\n",
        "#Changing the column names\n",
        "cnames = list(df.columns)\n",
        "\n",
        "#Drop the first row \n",
        "df = df[24:]\n",
        "\n",
        "df.dtypes\n",
        "\n",
        "df.reset_index(inplace = True)\n",
        "df = df.drop(['index'], axis = 1)\n",
        "\n",
        "df_new = df[['year', 'month', 'day', 'hour']]\n",
        "df_new['date'] = pd.to_datetime(df_new)\n",
        "\n",
        "df['date'] = df_new['date']\n",
        "\n",
        "#Set the date as Index\n",
        "df = df.set_index(df['date'],drop = False)\n",
        "df = df.sort_index()\n",
        "\n",
        "# df_cbwd = df['cbwd']\n",
        "# df_cbwd['cbwd_mode'] = df_cbwd.resample(\"d\").apply(lambda x: stats.mode(x)[0])\n",
        "\n",
        "# df = df.resample('d').mean()\n",
        "# df['cbwd'] = df_cbwd['cbwd_mode']\n",
        "\n",
        "df['day_of_week'] = df.index.dayofweek\n",
        "\n",
        "def weekend(row):\n",
        "    if (row == 5) or (row == 6):\n",
        "        return 1\n",
        "    else:\n",
        "        return 0\n",
        "\n",
        "df['weekend'] = df['day_of_week'].apply(weekend)\n",
        "\n",
        "\n",
        "mean = df['pm2.5'].min()\n",
        "std_dev = df['pm2.5'].max() - df['pm2.5'].min()\n",
        "\n",
        "for field in cnames:\n",
        "    print(field, df[field].isna().sum())\n",
        "\n",
        "df['pm2.5'] = df['pm2.5'].fillna(df['pm2.5'].mean())\n",
        "\n",
        "df = pd.get_dummies(df, columns = ['cbwd'] )    \n",
        "\n",
        "df['PM2.5'] = df['pm2.5']\n",
        "df = df.drop(['pm2.5'], axis = 1)\n",
        "\n",
        "df = df.drop(['hour', 'date'], axis = 1)\n",
        "\n",
        "cnames = list(df.columns)"
      ],
      "execution_count": 244,
      "outputs": [
        {
          "output_type": "stream",
          "text": [
            "year 0\n",
            "month 0\n",
            "day 0\n",
            "hour 0\n",
            "pm2.5 2043\n",
            "DEWP 0\n",
            "TEMP 0\n",
            "PRES 0\n",
            "cbwd 0\n",
            "Iws 0\n"
          ],
          "name": "stdout"
        }
      ]
    },
    {
      "cell_type": "code",
      "metadata": {
        "id": "MQFLDQejDY3X",
        "colab_type": "code",
        "colab": {
          "base_uri": "https://localhost:8080/",
          "height": 237
        },
        "outputId": "eb7ea08a-722a-4454-be0d-9544dd63780d"
      },
      "source": [
        "df.head()"
      ],
      "execution_count": 245,
      "outputs": [
        {
          "output_type": "execute_result",
          "data": {
            "text/html": [
              "<div>\n",
              "<style scoped>\n",
              "    .dataframe tbody tr th:only-of-type {\n",
              "        vertical-align: middle;\n",
              "    }\n",
              "\n",
              "    .dataframe tbody tr th {\n",
              "        vertical-align: top;\n",
              "    }\n",
              "\n",
              "    .dataframe thead th {\n",
              "        text-align: right;\n",
              "    }\n",
              "</style>\n",
              "<table border=\"1\" class=\"dataframe\">\n",
              "  <thead>\n",
              "    <tr style=\"text-align: right;\">\n",
              "      <th></th>\n",
              "      <th>year</th>\n",
              "      <th>month</th>\n",
              "      <th>day</th>\n",
              "      <th>DEWP</th>\n",
              "      <th>TEMP</th>\n",
              "      <th>PRES</th>\n",
              "      <th>Iws</th>\n",
              "      <th>day_of_week</th>\n",
              "      <th>weekend</th>\n",
              "      <th>cbwd_NE</th>\n",
              "      <th>cbwd_NW</th>\n",
              "      <th>cbwd_SE</th>\n",
              "      <th>cbwd_cv</th>\n",
              "      <th>PM2.5</th>\n",
              "    </tr>\n",
              "    <tr>\n",
              "      <th>date</th>\n",
              "      <th></th>\n",
              "      <th></th>\n",
              "      <th></th>\n",
              "      <th></th>\n",
              "      <th></th>\n",
              "      <th></th>\n",
              "      <th></th>\n",
              "      <th></th>\n",
              "      <th></th>\n",
              "      <th></th>\n",
              "      <th></th>\n",
              "      <th></th>\n",
              "      <th></th>\n",
              "      <th></th>\n",
              "    </tr>\n",
              "  </thead>\n",
              "  <tbody>\n",
              "    <tr>\n",
              "      <th>2010-01-02 00:00:00</th>\n",
              "      <td>2010</td>\n",
              "      <td>1</td>\n",
              "      <td>2</td>\n",
              "      <td>-16</td>\n",
              "      <td>-4.0</td>\n",
              "      <td>1020.0</td>\n",
              "      <td>1.79</td>\n",
              "      <td>5</td>\n",
              "      <td>1</td>\n",
              "      <td>0</td>\n",
              "      <td>0</td>\n",
              "      <td>1</td>\n",
              "      <td>0</td>\n",
              "      <td>129.0</td>\n",
              "    </tr>\n",
              "    <tr>\n",
              "      <th>2010-01-02 01:00:00</th>\n",
              "      <td>2010</td>\n",
              "      <td>1</td>\n",
              "      <td>2</td>\n",
              "      <td>-15</td>\n",
              "      <td>-4.0</td>\n",
              "      <td>1020.0</td>\n",
              "      <td>2.68</td>\n",
              "      <td>5</td>\n",
              "      <td>1</td>\n",
              "      <td>0</td>\n",
              "      <td>0</td>\n",
              "      <td>1</td>\n",
              "      <td>0</td>\n",
              "      <td>148.0</td>\n",
              "    </tr>\n",
              "    <tr>\n",
              "      <th>2010-01-02 02:00:00</th>\n",
              "      <td>2010</td>\n",
              "      <td>1</td>\n",
              "      <td>2</td>\n",
              "      <td>-11</td>\n",
              "      <td>-5.0</td>\n",
              "      <td>1021.0</td>\n",
              "      <td>3.57</td>\n",
              "      <td>5</td>\n",
              "      <td>1</td>\n",
              "      <td>0</td>\n",
              "      <td>0</td>\n",
              "      <td>1</td>\n",
              "      <td>0</td>\n",
              "      <td>159.0</td>\n",
              "    </tr>\n",
              "    <tr>\n",
              "      <th>2010-01-02 03:00:00</th>\n",
              "      <td>2010</td>\n",
              "      <td>1</td>\n",
              "      <td>2</td>\n",
              "      <td>-7</td>\n",
              "      <td>-5.0</td>\n",
              "      <td>1022.0</td>\n",
              "      <td>5.36</td>\n",
              "      <td>5</td>\n",
              "      <td>1</td>\n",
              "      <td>0</td>\n",
              "      <td>0</td>\n",
              "      <td>1</td>\n",
              "      <td>0</td>\n",
              "      <td>181.0</td>\n",
              "    </tr>\n",
              "    <tr>\n",
              "      <th>2010-01-02 04:00:00</th>\n",
              "      <td>2010</td>\n",
              "      <td>1</td>\n",
              "      <td>2</td>\n",
              "      <td>-7</td>\n",
              "      <td>-5.0</td>\n",
              "      <td>1022.0</td>\n",
              "      <td>6.25</td>\n",
              "      <td>5</td>\n",
              "      <td>1</td>\n",
              "      <td>0</td>\n",
              "      <td>0</td>\n",
              "      <td>1</td>\n",
              "      <td>0</td>\n",
              "      <td>138.0</td>\n",
              "    </tr>\n",
              "  </tbody>\n",
              "</table>\n",
              "</div>"
            ],
            "text/plain": [
              "                     year  month  day  DEWP  ...  cbwd_NW  cbwd_SE  cbwd_cv  PM2.5\n",
              "date                                         ...                                  \n",
              "2010-01-02 00:00:00  2010      1    2   -16  ...        0        1        0  129.0\n",
              "2010-01-02 01:00:00  2010      1    2   -15  ...        0        1        0  148.0\n",
              "2010-01-02 02:00:00  2010      1    2   -11  ...        0        1        0  159.0\n",
              "2010-01-02 03:00:00  2010      1    2    -7  ...        0        1        0  181.0\n",
              "2010-01-02 04:00:00  2010      1    2    -7  ...        0        1        0  138.0\n",
              "\n",
              "[5 rows x 14 columns]"
            ]
          },
          "metadata": {
            "tags": []
          },
          "execution_count": 245
        }
      ]
    },
    {
      "cell_type": "code",
      "metadata": {
        "id": "epilIEuzkhhN",
        "colab_type": "code",
        "colab": {}
      },
      "source": [
        "df = df.resample('d').mean()"
      ],
      "execution_count": 246,
      "outputs": []
    },
    {
      "cell_type": "code",
      "metadata": {
        "id": "G1ibrB9gkm7P",
        "colab_type": "code",
        "colab": {
          "base_uri": "https://localhost:8080/",
          "height": 257
        },
        "outputId": "a17f3213-d5a4-4d49-9520-0097f8d87a6c"
      },
      "source": [
        "df.head()"
      ],
      "execution_count": 247,
      "outputs": [
        {
          "output_type": "execute_result",
          "data": {
            "text/html": [
              "<div>\n",
              "<style scoped>\n",
              "    .dataframe tbody tr th:only-of-type {\n",
              "        vertical-align: middle;\n",
              "    }\n",
              "\n",
              "    .dataframe tbody tr th {\n",
              "        vertical-align: top;\n",
              "    }\n",
              "\n",
              "    .dataframe thead th {\n",
              "        text-align: right;\n",
              "    }\n",
              "</style>\n",
              "<table border=\"1\" class=\"dataframe\">\n",
              "  <thead>\n",
              "    <tr style=\"text-align: right;\">\n",
              "      <th></th>\n",
              "      <th>year</th>\n",
              "      <th>month</th>\n",
              "      <th>day</th>\n",
              "      <th>DEWP</th>\n",
              "      <th>TEMP</th>\n",
              "      <th>PRES</th>\n",
              "      <th>Iws</th>\n",
              "      <th>day_of_week</th>\n",
              "      <th>weekend</th>\n",
              "      <th>cbwd_NE</th>\n",
              "      <th>cbwd_NW</th>\n",
              "      <th>cbwd_SE</th>\n",
              "      <th>cbwd_cv</th>\n",
              "      <th>PM2.5</th>\n",
              "    </tr>\n",
              "    <tr>\n",
              "      <th>date</th>\n",
              "      <th></th>\n",
              "      <th></th>\n",
              "      <th></th>\n",
              "      <th></th>\n",
              "      <th></th>\n",
              "      <th></th>\n",
              "      <th></th>\n",
              "      <th></th>\n",
              "      <th></th>\n",
              "      <th></th>\n",
              "      <th></th>\n",
              "      <th></th>\n",
              "      <th></th>\n",
              "      <th></th>\n",
              "    </tr>\n",
              "  </thead>\n",
              "  <tbody>\n",
              "    <tr>\n",
              "      <th>2010-01-02</th>\n",
              "      <td>2010.0</td>\n",
              "      <td>1.0</td>\n",
              "      <td>2.0</td>\n",
              "      <td>-8.500000</td>\n",
              "      <td>-5.125000</td>\n",
              "      <td>1024.750000</td>\n",
              "      <td>24.860000</td>\n",
              "      <td>5.0</td>\n",
              "      <td>1.0</td>\n",
              "      <td>0.000</td>\n",
              "      <td>0.000000</td>\n",
              "      <td>1.00</td>\n",
              "      <td>0.000000</td>\n",
              "      <td>145.958333</td>\n",
              "    </tr>\n",
              "    <tr>\n",
              "      <th>2010-01-03</th>\n",
              "      <td>2010.0</td>\n",
              "      <td>1.0</td>\n",
              "      <td>3.0</td>\n",
              "      <td>-10.125000</td>\n",
              "      <td>-8.541667</td>\n",
              "      <td>1022.791667</td>\n",
              "      <td>70.937917</td>\n",
              "      <td>6.0</td>\n",
              "      <td>1.0</td>\n",
              "      <td>0.000</td>\n",
              "      <td>0.166667</td>\n",
              "      <td>0.75</td>\n",
              "      <td>0.083333</td>\n",
              "      <td>78.833333</td>\n",
              "    </tr>\n",
              "    <tr>\n",
              "      <th>2010-01-04</th>\n",
              "      <td>2010.0</td>\n",
              "      <td>1.0</td>\n",
              "      <td>4.0</td>\n",
              "      <td>-20.875000</td>\n",
              "      <td>-11.500000</td>\n",
              "      <td>1029.291667</td>\n",
              "      <td>111.160833</td>\n",
              "      <td>0.0</td>\n",
              "      <td>0.0</td>\n",
              "      <td>0.000</td>\n",
              "      <td>1.000000</td>\n",
              "      <td>0.00</td>\n",
              "      <td>0.000000</td>\n",
              "      <td>31.333333</td>\n",
              "    </tr>\n",
              "    <tr>\n",
              "      <th>2010-01-05</th>\n",
              "      <td>2010.0</td>\n",
              "      <td>1.0</td>\n",
              "      <td>5.0</td>\n",
              "      <td>-24.583333</td>\n",
              "      <td>-14.458333</td>\n",
              "      <td>1033.625000</td>\n",
              "      <td>56.920000</td>\n",
              "      <td>1.0</td>\n",
              "      <td>0.0</td>\n",
              "      <td>0.375</td>\n",
              "      <td>0.583333</td>\n",
              "      <td>0.00</td>\n",
              "      <td>0.041667</td>\n",
              "      <td>42.458333</td>\n",
              "    </tr>\n",
              "    <tr>\n",
              "      <th>2010-01-06</th>\n",
              "      <td>2010.0</td>\n",
              "      <td>1.0</td>\n",
              "      <td>6.0</td>\n",
              "      <td>-23.708333</td>\n",
              "      <td>-12.541667</td>\n",
              "      <td>1033.750000</td>\n",
              "      <td>18.511667</td>\n",
              "      <td>2.0</td>\n",
              "      <td>0.0</td>\n",
              "      <td>0.500</td>\n",
              "      <td>0.416667</td>\n",
              "      <td>0.00</td>\n",
              "      <td>0.083333</td>\n",
              "      <td>56.416667</td>\n",
              "    </tr>\n",
              "  </tbody>\n",
              "</table>\n",
              "</div>"
            ],
            "text/plain": [
              "              year  month  day  ...  cbwd_SE   cbwd_cv       PM2.5\n",
              "date                            ...                               \n",
              "2010-01-02  2010.0    1.0  2.0  ...     1.00  0.000000  145.958333\n",
              "2010-01-03  2010.0    1.0  3.0  ...     0.75  0.083333   78.833333\n",
              "2010-01-04  2010.0    1.0  4.0  ...     0.00  0.000000   31.333333\n",
              "2010-01-05  2010.0    1.0  5.0  ...     0.00  0.041667   42.458333\n",
              "2010-01-06  2010.0    1.0  6.0  ...     0.00  0.083333   56.416667\n",
              "\n",
              "[5 rows x 14 columns]"
            ]
          },
          "metadata": {
            "tags": []
          },
          "execution_count": 247
        }
      ]
    },
    {
      "cell_type": "code",
      "metadata": {
        "id": "cZtSCLENpMa7",
        "colab_type": "code",
        "colab": {}
      },
      "source": [
        "df = df.iloc[:-2,:]"
      ],
      "execution_count": 248,
      "outputs": []
    },
    {
      "cell_type": "code",
      "metadata": {
        "id": "qwMb1CoCS9XO",
        "colab_type": "code",
        "colab": {}
      },
      "source": [
        "for field in cnames:\n",
        "    df[field] = (df[field] - df[field].min())/(df[field].max() - df[field].min())"
      ],
      "execution_count": 249,
      "outputs": []
    },
    {
      "cell_type": "code",
      "metadata": {
        "id": "YpmQvmpsGAyM",
        "colab_type": "code",
        "colab": {
          "base_uri": "https://localhost:8080/",
          "height": 144
        },
        "outputId": "34ac3f36-43c5-4014-e84d-2f47b8285e5d"
      },
      "source": [
        "train_x = df['PM2.5'][:-4]\n",
        "test_x = df['PM2.5'][-4:]\n",
        "train_x.head()"
      ],
      "execution_count": 250,
      "outputs": [
        {
          "output_type": "execute_result",
          "data": {
            "text/plain": [
              "date\n",
              "2010-01-02    0.269502\n",
              "2010-01-03    0.142996\n",
              "2010-01-04    0.053476\n",
              "2010-01-05    0.074443\n",
              "2010-01-06    0.100749\n",
              "Freq: D, Name: PM2.5, dtype: float64"
            ]
          },
          "metadata": {
            "tags": []
          },
          "execution_count": 250
        }
      ]
    },
    {
      "cell_type": "code",
      "metadata": {
        "id": "EhcJ1E18JXeh",
        "colab_type": "code",
        "colab": {
          "base_uri": "https://localhost:8080/",
          "height": 126
        },
        "outputId": "6a07b2a0-18a7-4ab1-d383-8423c0064b6b"
      },
      "source": [
        "test_x.head()"
      ],
      "execution_count": 251,
      "outputs": [
        {
          "output_type": "execute_result",
          "data": {
            "text/plain": [
              "date\n",
              "2014-12-26    0.315282\n",
              "2014-12-27    0.444222\n",
              "2014-12-28    0.366403\n",
              "2014-12-29    0.294080\n",
              "Freq: D, Name: PM2.5, dtype: float64"
            ]
          },
          "metadata": {
            "tags": []
          },
          "execution_count": 251
        }
      ]
    },
    {
      "cell_type": "code",
      "metadata": {
        "id": "V47qQUZSJm4l",
        "colab_type": "code",
        "colab": {
          "base_uri": "https://localhost:8080/",
          "height": 35
        },
        "outputId": "2ccb4042-f666-456e-8c41-ef5f0b85f40b"
      },
      "source": [
        "train_x.shape"
      ],
      "execution_count": 252,
      "outputs": [
        {
          "output_type": "execute_result",
          "data": {
            "text/plain": [
              "(1819,)"
            ]
          },
          "metadata": {
            "tags": []
          },
          "execution_count": 252
        }
      ]
    },
    {
      "cell_type": "code",
      "metadata": {
        "id": "gtIBK_kb4DX8",
        "colab_type": "code",
        "colab": {
          "base_uri": "https://localhost:8080/",
          "height": 53
        },
        "outputId": "2dabaad2-47c2-4b7d-eb90-61a28725c318"
      },
      "source": [
        "#'''PROPHET GENERAL MODEL'''\n",
        "from fbprophet import Prophet\n",
        "pro_train = pd.DataFrame(index = range(0,len(train_x)))\n",
        "pro_train['ds'] = train_x.index\n",
        "pro_train['y'] = train_x.values\n",
        "\n",
        "prop = Prophet(weekly_seasonality = True)\n",
        "prop.fit(pro_train)\n",
        "future = prop.make_future_dataframe(periods = 4)\n",
        "forecast = prop.predict(future)\n",
        "print(forecast.shape)"
      ],
      "execution_count": 253,
      "outputs": [
        {
          "output_type": "stream",
          "text": [
            "INFO:fbprophet:Disabling daily seasonality. Run prophet with daily_seasonality=True to override this.\n"
          ],
          "name": "stderr"
        },
        {
          "output_type": "stream",
          "text": [
            "(1823, 19)\n"
          ],
          "name": "stdout"
        }
      ]
    },
    {
      "cell_type": "code",
      "metadata": {
        "id": "jE89zMgf5G34",
        "colab_type": "code",
        "colab": {
          "base_uri": "https://localhost:8080/",
          "height": 35
        },
        "outputId": "cb24769c-6f6a-45d8-987f-0e331e670e87"
      },
      "source": [
        "forecast = forecast.set_index(forecast['ds'])\n",
        "#forecast = forecast['2015']\n",
        "#forecast = forecast['2015-10-25':]\n",
        "forecast_extracted = forecast[-4:]\n",
        "print(forecast_extracted.shape)"
      ],
      "execution_count": 254,
      "outputs": [
        {
          "output_type": "stream",
          "text": [
            "(4, 19)\n"
          ],
          "name": "stdout"
        }
      ]
    },
    {
      "cell_type": "code",
      "metadata": {
        "id": "FzCWYYxkLkUB",
        "colab_type": "code",
        "colab": {
          "base_uri": "https://localhost:8080/",
          "height": 126
        },
        "outputId": "a2a44958-a137-46ac-a32b-5bcb830557d6"
      },
      "source": [
        "forecast_extracted.columns"
      ],
      "execution_count": 255,
      "outputs": [
        {
          "output_type": "execute_result",
          "data": {
            "text/plain": [
              "Index(['ds', 'trend', 'yhat_lower', 'yhat_upper', 'trend_lower', 'trend_upper',\n",
              "       'additive_terms', 'additive_terms_lower', 'additive_terms_upper',\n",
              "       'weekly', 'weekly_lower', 'weekly_upper', 'yearly', 'yearly_lower',\n",
              "       'yearly_upper', 'multiplicative_terms', 'multiplicative_terms_lower',\n",
              "       'multiplicative_terms_upper', 'yhat'],\n",
              "      dtype='object')"
            ]
          },
          "metadata": {
            "tags": []
          },
          "execution_count": 255
        }
      ]
    },
    {
      "cell_type": "code",
      "metadata": {
        "id": "Nq5CoiNOWdNd",
        "colab_type": "code",
        "colab": {}
      },
      "source": [
        "y_test = test_x\n",
        "y_hat = forecast_extracted['yhat'].values\n",
        "y_hat_upper = forecast_extracted['yhat_upper'].values\n",
        "y_hat_lower = forecast_extracted['yhat_lower'].values"
      ],
      "execution_count": 256,
      "outputs": []
    },
    {
      "cell_type": "code",
      "metadata": {
        "id": "ZT5utPTkL8Sm",
        "colab_type": "code",
        "colab": {}
      },
      "source": [
        "y_hat = (y_hat*std_dev)+mean\n",
        "y_test = (y_test*std_dev)+mean\n",
        "y_hat_upper = (y_hat_upper*std_dev)+mean\n",
        "y_hat_lower = (y_hat_lower*std_dev)+mean"
      ],
      "execution_count": 257,
      "outputs": []
    },
    {
      "cell_type": "code",
      "metadata": {
        "id": "AJEMb3TfMlaF",
        "colab_type": "code",
        "colab": {
          "base_uri": "https://localhost:8080/",
          "height": 53
        },
        "outputId": "5a8afcad-a31c-4601-bee5-7748d232f902"
      },
      "source": [
        "print(y_hat)\n",
        "print(y_test.values)"
      ],
      "execution_count": 258,
      "outputs": [
        {
          "output_type": "stream",
          "text": [
            "[137.03389538 147.18649659 142.74732041 137.52425906]\n",
            "[313.39075108 441.55703085 364.20454409 292.31590605]\n"
          ],
          "name": "stdout"
        }
      ]
    },
    {
      "cell_type": "code",
      "metadata": {
        "id": "2kLz_jh_6ACG",
        "colab_type": "code",
        "colab": {
          "base_uri": "https://localhost:8080/",
          "height": 483
        },
        "outputId": "a50c816e-4a33-462c-d1b6-257e1f77d1e9"
      },
      "source": [
        "plt.plot(y_test.values, label = 'Original')\n",
        "plt.plot(y_hat, label = 'Predicted')\n",
        "plt.plot(y_hat_upper, label = 'Upper Confidence')\n",
        "plt.plot(y_hat_lower, label = 'Lower Confidence')\n",
        "plt.legend()\n",
        "plt.show()"
      ],
      "execution_count": 259,
      "outputs": [
        {
          "output_type": "display_data",
          "data": {
            "image/png": "[encoded data removed]",
            "text/plain": [
              "<Figure size 1080x576 with 1 Axes>"
            ]
          },
          "metadata": {
            "tags": [],
            "needs_background": "light"
          }
        }
      ]
    },
    {
      "cell_type": "code",
      "metadata": {
        "id": "TjIlFZP9szcN",
        "colab_type": "code",
        "colab": {
          "base_uri": "https://localhost:8080/",
          "height": 90
        },
        "outputId": "92722d1a-902c-464e-d272-fcda6b1e5235"
      },
      "source": [
        "from sklearn.metrics import mean_squared_error\n",
        "from sklearn.metrics import mean_absolute_error\n",
        "from math import sqrt\n",
        "def mean_absolute_percentage_error(y_true, y_pred): \n",
        "    return np.mean(np.abs((y_true - y_pred) / y_true)) * 100\n",
        "\n",
        "\n",
        "rms_new = sqrt(mean_squared_error(y_test, y_hat))\n",
        "print(rms_new)\n",
        "\n",
        "mse_new = mean_squared_error(y_test, y_hat)\n",
        "print(mse_new)\n",
        "\n",
        "mae_new = mean_absolute_error(y_test, y_hat)\n",
        "print(mae_new)\n",
        "\n",
        "mape_new = mean_absolute_percentage_error(y_test, y_hat)\n",
        "print(mape_new)"
      ],
      "execution_count": 260,
      "outputs": [
        {
          "output_type": "stream",
          "text": [
            "218.38012036663827\n",
            "47689.87697134742\n",
            "211.74406515420102\n",
            "59.17488719929176\n"
          ],
          "name": "stdout"
        }
      ]
    },
    {
      "cell_type": "code",
      "metadata": {
        "id": "YLuFmWWVtC3_",
        "colab_type": "code",
        "colab": {}
      },
      "source": [
        ""
      ],
      "execution_count": 260,
      "outputs": []
    }
  ]
}