{
  "nbformat": 4,
  "nbformat_minor": 0,
  "metadata": {
    "colab": {
      "name": "beijingSARIMAPM2.5.ipynb",
      "provenance": [],
      "collapsed_sections": []
    },
    "kernelspec": {
      "name": "python3",
      "display_name": "Python 3"
    }
  },
  "cells": [
    {
      "cell_type": "code",
      "metadata": {
        "id": "Orc_tThRxQbA",
        "colab_type": "code",
        "colab": {}
      },
      "source": [
        "import pandas as pd          \n",
        "import numpy as np          # For mathematical calculations\n",
        "import matplotlib.pyplot as plt  # For plotting graphs\n",
        "from datetime import datetime    # To access datetime\n",
        "from pandas import Series        # To work on series\n",
        "import matplotlib\n",
        "import warnings                   # To ignore the warnings\n",
        "warnings.filterwarnings(\"ignore\")\n",
        "from math import sqrt\n",
        "from sklearn.metrics import mean_squared_error\n",
        "from numpy import array\n",
        "from sklearn.preprocessing import LabelEncoder\n",
        "import scipy.stats as stats"
      ],
      "execution_count": 69,
      "outputs": []
    },
    {
      "cell_type": "code",
      "metadata": {
        "id": "R3PeUnunxcb9",
        "colab_type": "code",
        "colab": {
          "base_uri": "https://localhost:8080/",
          "height": 199
        },
        "outputId": "e66e2979-e475-458e-ec80-604ea25145b6"
      },
      "source": [
        "df = pd.read_csv('PRSA_data.csv')\n",
        "\n",
        "df = df.drop(['Ir','No','Is'],axis = 1)\n",
        "\n",
        "#Changing the column names\n",
        "cnames = list(df.columns)\n",
        "\n",
        "#Drop the first row \n",
        "df = df[24:]\n",
        "\n",
        "df.dtypes\n",
        "\n",
        "df.reset_index(inplace = True)\n",
        "df = df.drop(['index'], axis = 1)\n",
        "\n",
        "df_new = df[['year', 'month', 'day', 'hour']]\n",
        "df_new['date'] = pd.to_datetime(df_new)\n",
        "\n",
        "df['date'] = df_new['date']\n",
        "\n",
        "#Set the date as Index\n",
        "df = df.set_index(df['date'],drop = False)\n",
        "df = df.sort_index()\n",
        "\n",
        "# df_cbwd = df['cbwd']\n",
        "# df_cbwd['cbwd_mode'] = df_cbwd.resample(\"d\").apply(lambda x: stats.mode(x)[0])\n",
        "\n",
        "# df = df.resample('d').mean()\n",
        "# df['cbwd'] = df_cbwd['cbwd_mode']\n",
        "\n",
        "df['day_of_week'] = df.index.dayofweek\n",
        "\n",
        "def weekend(row):\n",
        "    if (row == 5) or (row == 6):\n",
        "        return 1\n",
        "    else:\n",
        "        return 0\n",
        "\n",
        "df['weekend'] = df['day_of_week'].apply(weekend)\n",
        "\n",
        "\n",
        "mean = df['pm2.5'].min()\n",
        "std_dev = df['pm2.5'].max() - df['pm2.5'].min()\n",
        "\n",
        "for field in cnames:\n",
        "    print(field, df[field].isna().sum())\n",
        "\n",
        "df['pm2.5'] = df['pm2.5'].fillna(df['pm2.5'].mean())\n",
        "\n",
        "df = pd.get_dummies(df, columns = ['cbwd'] )    \n",
        "\n",
        "df['PM2.5'] = df['pm2.5']\n",
        "df = df.drop(['pm2.5'], axis = 1)\n",
        "\n",
        "df = df.drop(['hour', 'date'], axis = 1)\n",
        "\n",
        "cnames = list(df.columns)"
      ],
      "execution_count": 70,
      "outputs": [
        {
          "output_type": "stream",
          "text": [
            "year 0\n",
            "month 0\n",
            "day 0\n",
            "hour 0\n",
            "pm2.5 2043\n",
            "DEWP 0\n",
            "TEMP 0\n",
            "PRES 0\n",
            "cbwd 0\n",
            "Iws 0\n"
          ],
          "name": "stdout"
        }
      ]
    },
    {
      "cell_type": "code",
      "metadata": {
        "id": "MQFLDQejDY3X",
        "colab_type": "code",
        "colab": {
          "base_uri": "https://localhost:8080/",
          "height": 237
        },
        "outputId": "3dcf5412-f318-4f3b-da30-9b67a2812de6"
      },
      "source": [
        "df.head()"
      ],
      "execution_count": 71,
      "outputs": [
        {
          "output_type": "execute_result",
          "data": {
            "text/html": [
              "<div>\n",
              "<style scoped>\n",
              "    .dataframe tbody tr th:only-of-type {\n",
              "        vertical-align: middle;\n",
              "    }\n",
              "\n",
              "    .dataframe tbody tr th {\n",
              "        vertical-align: top;\n",
              "    }\n",
              "\n",
              "    .dataframe thead th {\n",
              "        text-align: right;\n",
              "    }\n",
              "</style>\n",
              "<table border=\"1\" class=\"dataframe\">\n",
              "  <thead>\n",
              "    <tr style=\"text-align: right;\">\n",
              "      <th></th>\n",
              "      <th>year</th>\n",
              "      <th>month</th>\n",
              "      <th>day</th>\n",
              "      <th>DEWP</th>\n",
              "      <th>TEMP</th>\n",
              "      <th>PRES</th>\n",
              "      <th>Iws</th>\n",
              "      <th>day_of_week</th>\n",
              "      <th>weekend</th>\n",
              "      <th>cbwd_NE</th>\n",
              "      <th>cbwd_NW</th>\n",
              "      <th>cbwd_SE</th>\n",
              "      <th>cbwd_cv</th>\n",
              "      <th>PM2.5</th>\n",
              "    </tr>\n",
              "    <tr>\n",
              "      <th>date</th>\n",
              "      <th></th>\n",
              "      <th></th>\n",
              "      <th></th>\n",
              "      <th></th>\n",
              "      <th></th>\n",
              "      <th></th>\n",
              "      <th></th>\n",
              "      <th></th>\n",
              "      <th></th>\n",
              "      <th></th>\n",
              "      <th></th>\n",
              "      <th></th>\n",
              "      <th></th>\n",
              "      <th></th>\n",
              "    </tr>\n",
              "  </thead>\n",
              "  <tbody>\n",
              "    <tr>\n",
              "      <th>2010-01-02 00:00:00</th>\n",
              "      <td>2010</td>\n",
              "      <td>1</td>\n",
              "      <td>2</td>\n",
              "      <td>-16</td>\n",
              "      <td>-4.0</td>\n",
              "      <td>1020.0</td>\n",
              "      <td>1.79</td>\n",
              "      <td>5</td>\n",
              "      <td>1</td>\n",
              "      <td>0</td>\n",
              "      <td>0</td>\n",
              "      <td>1</td>\n",
              "      <td>0</td>\n",
              "      <td>129.0</td>\n",
              "    </tr>\n",
              "    <tr>\n",
              "      <th>2010-01-02 01:00:00</th>\n",
              "      <td>2010</td>\n",
              "      <td>1</td>\n",
              "      <td>2</td>\n",
              "      <td>-15</td>\n",
              "      <td>-4.0</td>\n",
              "      <td>1020.0</td>\n",
              "      <td>2.68</td>\n",
              "      <td>5</td>\n",
              "      <td>1</td>\n",
              "      <td>0</td>\n",
              "      <td>0</td>\n",
              "      <td>1</td>\n",
              "      <td>0</td>\n",
              "      <td>148.0</td>\n",
              "    </tr>\n",
              "    <tr>\n",
              "      <th>2010-01-02 02:00:00</th>\n",
              "      <td>2010</td>\n",
              "      <td>1</td>\n",
              "      <td>2</td>\n",
              "      <td>-11</td>\n",
              "      <td>-5.0</td>\n",
              "      <td>1021.0</td>\n",
              "      <td>3.57</td>\n",
              "      <td>5</td>\n",
              "      <td>1</td>\n",
              "      <td>0</td>\n",
              "      <td>0</td>\n",
              "      <td>1</td>\n",
              "      <td>0</td>\n",
              "      <td>159.0</td>\n",
              "    </tr>\n",
              "    <tr>\n",
              "      <th>2010-01-02 03:00:00</th>\n",
              "      <td>2010</td>\n",
              "      <td>1</td>\n",
              "      <td>2</td>\n",
              "      <td>-7</td>\n",
              "      <td>-5.0</td>\n",
              "      <td>1022.0</td>\n",
              "      <td>5.36</td>\n",
              "      <td>5</td>\n",
              "      <td>1</td>\n",
              "      <td>0</td>\n",
              "      <td>0</td>\n",
              "      <td>1</td>\n",
              "      <td>0</td>\n",
              "      <td>181.0</td>\n",
              "    </tr>\n",
              "    <tr>\n",
              "      <th>2010-01-02 04:00:00</th>\n",
              "      <td>2010</td>\n",
              "      <td>1</td>\n",
              "      <td>2</td>\n",
              "      <td>-7</td>\n",
              "      <td>-5.0</td>\n",
              "      <td>1022.0</td>\n",
              "      <td>6.25</td>\n",
              "      <td>5</td>\n",
              "      <td>1</td>\n",
              "      <td>0</td>\n",
              "      <td>0</td>\n",
              "      <td>1</td>\n",
              "      <td>0</td>\n",
              "      <td>138.0</td>\n",
              "    </tr>\n",
              "  </tbody>\n",
              "</table>\n",
              "</div>"
            ],
            "text/plain": [
              "                     year  month  day  DEWP  ...  cbwd_NW  cbwd_SE  cbwd_cv  PM2.5\n",
              "date                                         ...                                  \n",
              "2010-01-02 00:00:00  2010      1    2   -16  ...        0        1        0  129.0\n",
              "2010-01-02 01:00:00  2010      1    2   -15  ...        0        1        0  148.0\n",
              "2010-01-02 02:00:00  2010      1    2   -11  ...        0        1        0  159.0\n",
              "2010-01-02 03:00:00  2010      1    2    -7  ...        0        1        0  181.0\n",
              "2010-01-02 04:00:00  2010      1    2    -7  ...        0        1        0  138.0\n",
              "\n",
              "[5 rows x 14 columns]"
            ]
          },
          "metadata": {
            "tags": []
          },
          "execution_count": 71
        }
      ]
    },
    {
      "cell_type": "code",
      "metadata": {
        "id": "epilIEuzkhhN",
        "colab_type": "code",
        "colab": {}
      },
      "source": [
        "df = df.resample('d').mean()"
      ],
      "execution_count": 72,
      "outputs": []
    },
    {
      "cell_type": "code",
      "metadata": {
        "id": "G1ibrB9gkm7P",
        "colab_type": "code",
        "colab": {
          "base_uri": "https://localhost:8080/",
          "height": 257
        },
        "outputId": "02aa7c3c-8b8f-4304-cef7-f269dfac03b8"
      },
      "source": [
        "df.head()"
      ],
      "execution_count": 73,
      "outputs": [
        {
          "output_type": "execute_result",
          "data": {
            "text/html": [
              "<div>\n",
              "<style scoped>\n",
              "    .dataframe tbody tr th:only-of-type {\n",
              "        vertical-align: middle;\n",
              "    }\n",
              "\n",
              "    .dataframe tbody tr th {\n",
              "        vertical-align: top;\n",
              "    }\n",
              "\n",
              "    .dataframe thead th {\n",
              "        text-align: right;\n",
              "    }\n",
              "</style>\n",
              "<table border=\"1\" class=\"dataframe\">\n",
              "  <thead>\n",
              "    <tr style=\"text-align: right;\">\n",
              "      <th></th>\n",
              "      <th>year</th>\n",
              "      <th>month</th>\n",
              "      <th>day</th>\n",
              "      <th>DEWP</th>\n",
              "      <th>TEMP</th>\n",
              "      <th>PRES</th>\n",
              "      <th>Iws</th>\n",
              "      <th>day_of_week</th>\n",
              "      <th>weekend</th>\n",
              "      <th>cbwd_NE</th>\n",
              "      <th>cbwd_NW</th>\n",
              "      <th>cbwd_SE</th>\n",
              "      <th>cbwd_cv</th>\n",
              "      <th>PM2.5</th>\n",
              "    </tr>\n",
              "    <tr>\n",
              "      <th>date</th>\n",
              "      <th></th>\n",
              "      <th></th>\n",
              "      <th></th>\n",
              "      <th></th>\n",
              "      <th></th>\n",
              "      <th></th>\n",
              "      <th></th>\n",
              "      <th></th>\n",
              "      <th></th>\n",
              "      <th></th>\n",
              "      <th></th>\n",
              "      <th></th>\n",
              "      <th></th>\n",
              "      <th></th>\n",
              "    </tr>\n",
              "  </thead>\n",
              "  <tbody>\n",
              "    <tr>\n",
              "      <th>2010-01-02</th>\n",
              "      <td>2010.0</td>\n",
              "      <td>1.0</td>\n",
              "      <td>2.0</td>\n",
              "      <td>-8.500000</td>\n",
              "      <td>-5.125000</td>\n",
              "      <td>1024.750000</td>\n",
              "      <td>24.860000</td>\n",
              "      <td>5.0</td>\n",
              "      <td>1.0</td>\n",
              "      <td>0.000</td>\n",
              "      <td>0.000000</td>\n",
              "      <td>1.00</td>\n",
              "      <td>0.000000</td>\n",
              "      <td>145.958333</td>\n",
              "    </tr>\n",
              "    <tr>\n",
              "      <th>2010-01-03</th>\n",
              "      <td>2010.0</td>\n",
              "      <td>1.0</td>\n",
              "      <td>3.0</td>\n",
              "      <td>-10.125000</td>\n",
              "      <td>-8.541667</td>\n",
              "      <td>1022.791667</td>\n",
              "      <td>70.937917</td>\n",
              "      <td>6.0</td>\n",
              "      <td>1.0</td>\n",
              "      <td>0.000</td>\n",
              "      <td>0.166667</td>\n",
              "      <td>0.75</td>\n",
              "      <td>0.083333</td>\n",
              "      <td>78.833333</td>\n",
              "    </tr>\n",
              "    <tr>\n",
              "      <th>2010-01-04</th>\n",
              "      <td>2010.0</td>\n",
              "      <td>1.0</td>\n",
              "      <td>4.0</td>\n",
              "      <td>-20.875000</td>\n",
              "      <td>-11.500000</td>\n",
              "      <td>1029.291667</td>\n",
              "      <td>111.160833</td>\n",
              "      <td>0.0</td>\n",
              "      <td>0.0</td>\n",
              "      <td>0.000</td>\n",
              "      <td>1.000000</td>\n",
              "      <td>0.00</td>\n",
              "      <td>0.000000</td>\n",
              "      <td>31.333333</td>\n",
              "    </tr>\n",
              "    <tr>\n",
              "      <th>2010-01-05</th>\n",
              "      <td>2010.0</td>\n",
              "      <td>1.0</td>\n",
              "      <td>5.0</td>\n",
              "      <td>-24.583333</td>\n",
              "      <td>-14.458333</td>\n",
              "      <td>1033.625000</td>\n",
              "      <td>56.920000</td>\n",
              "      <td>1.0</td>\n",
              "      <td>0.0</td>\n",
              "      <td>0.375</td>\n",
              "      <td>0.583333</td>\n",
              "      <td>0.00</td>\n",
              "      <td>0.041667</td>\n",
              "      <td>42.458333</td>\n",
              "    </tr>\n",
              "    <tr>\n",
              "      <th>2010-01-06</th>\n",
              "      <td>2010.0</td>\n",
              "      <td>1.0</td>\n",
              "      <td>6.0</td>\n",
              "      <td>-23.708333</td>\n",
              "      <td>-12.541667</td>\n",
              "      <td>1033.750000</td>\n",
              "      <td>18.511667</td>\n",
              "      <td>2.0</td>\n",
              "      <td>0.0</td>\n",
              "      <td>0.500</td>\n",
              "      <td>0.416667</td>\n",
              "      <td>0.00</td>\n",
              "      <td>0.083333</td>\n",
              "      <td>56.416667</td>\n",
              "    </tr>\n",
              "  </tbody>\n",
              "</table>\n",
              "</div>"
            ],
            "text/plain": [
              "              year  month  day  ...  cbwd_SE   cbwd_cv       PM2.5\n",
              "date                            ...                               \n",
              "2010-01-02  2010.0    1.0  2.0  ...     1.00  0.000000  145.958333\n",
              "2010-01-03  2010.0    1.0  3.0  ...     0.75  0.083333   78.833333\n",
              "2010-01-04  2010.0    1.0  4.0  ...     0.00  0.000000   31.333333\n",
              "2010-01-05  2010.0    1.0  5.0  ...     0.00  0.041667   42.458333\n",
              "2010-01-06  2010.0    1.0  6.0  ...     0.00  0.083333   56.416667\n",
              "\n",
              "[5 rows x 14 columns]"
            ]
          },
          "metadata": {
            "tags": []
          },
          "execution_count": 73
        }
      ]
    },
    {
      "cell_type": "code",
      "metadata": {
        "id": "cZtSCLENpMa7",
        "colab_type": "code",
        "colab": {}
      },
      "source": [
        "df = df.iloc[:-2,:]"
      ],
      "execution_count": 74,
      "outputs": []
    },
    {
      "cell_type": "code",
      "metadata": {
        "id": "AvgHBqS11zBa",
        "colab_type": "code",
        "colab": {}
      },
      "source": [
        "for field in cnames:\n",
        "\tdf[field] = (df[field] - df[field].min())/(df[field].max() - df[field].min())"
      ],
      "execution_count": 78,
      "outputs": []
    },
    {
      "cell_type": "code",
      "metadata": {
        "id": "YpmQvmpsGAyM",
        "colab_type": "code",
        "colab": {
          "base_uri": "https://localhost:8080/",
          "height": 144
        },
        "outputId": "5bbed53f-4731-492e-d48d-948f603fadb7"
      },
      "source": [
        "train_x = df['PM2.5'][:-4]\n",
        "test_x = df['PM2.5'][-4:]\n",
        "train_x.head()"
      ],
      "execution_count": 79,
      "outputs": [
        {
          "output_type": "execute_result",
          "data": {
            "text/plain": [
              "date\n",
              "2010-01-02    0.269502\n",
              "2010-01-03    0.142996\n",
              "2010-01-04    0.053476\n",
              "2010-01-05    0.074443\n",
              "2010-01-06    0.100749\n",
              "Freq: D, Name: PM2.5, dtype: float64"
            ]
          },
          "metadata": {
            "tags": []
          },
          "execution_count": 79
        }
      ]
    },
    {
      "cell_type": "code",
      "metadata": {
        "id": "SSFU3HFVmt8t",
        "colab_type": "code",
        "colab": {
          "base_uri": "https://localhost:8080/",
          "height": 35
        },
        "outputId": "b24d34c5-b26f-41b2-84fa-04be8233cb89"
      },
      "source": [
        "train_cps_log = train_x.values\n",
        "\n",
        "test_cps_log = test_x.values\n",
        "print(train_cps_log.shape, test_cps_log.shape)"
      ],
      "execution_count": 80,
      "outputs": [
        {
          "output_type": "stream",
          "text": [
            "(1819,) (4,)\n"
          ],
          "name": "stdout"
        }
      ]
    },
    {
      "cell_type": "code",
      "metadata": {
        "id": "Htf8OEAZqjkr",
        "colab_type": "code",
        "colab": {
          "base_uri": "https://localhost:8080/",
          "height": 255
        },
        "outputId": "fcd0d7c1-207f-456b-8734-5d0191a1c942"
      },
      "source": [
        "!pip install pyramid-arima"
      ],
      "execution_count": 81,
      "outputs": [
        {
          "output_type": "stream",
          "text": [
            "Requirement already satisfied: pyramid-arima in /usr/local/lib/python3.6/dist-packages (0.9.0)\n",
            "Requirement already satisfied: scipy>=0.9 in /usr/local/lib/python3.6/dist-packages (from pyramid-arima) (1.4.1)\n",
            "Requirement already satisfied: statsmodels>=0.9.0 in /usr/local/lib/python3.6/dist-packages (from pyramid-arima) (0.10.2)\n",
            "Requirement already satisfied: numpy>=1.10 in /usr/local/lib/python3.6/dist-packages (from pyramid-arima) (1.18.5)\n",
            "Requirement already satisfied: scikit-learn>=0.17 in /usr/local/lib/python3.6/dist-packages (from pyramid-arima) (0.22.2.post1)\n",
            "Requirement already satisfied: Cython>=0.23 in /usr/local/lib/python3.6/dist-packages (from pyramid-arima) (0.29.21)\n",
            "Requirement already satisfied: pandas>=0.19 in /usr/local/lib/python3.6/dist-packages (from pyramid-arima) (1.0.5)\n",
            "Requirement already satisfied: patsy>=0.4.0 in /usr/local/lib/python3.6/dist-packages (from statsmodels>=0.9.0->pyramid-arima) (0.5.1)\n",
            "Requirement already satisfied: joblib>=0.11 in /usr/local/lib/python3.6/dist-packages (from scikit-learn>=0.17->pyramid-arima) (0.16.0)\n",
            "Requirement already satisfied: pytz>=2017.2 in /usr/local/lib/python3.6/dist-packages (from pandas>=0.19->pyramid-arima) (2018.9)\n",
            "Requirement already satisfied: python-dateutil>=2.6.1 in /usr/local/lib/python3.6/dist-packages (from pandas>=0.19->pyramid-arima) (2.8.1)\n",
            "Requirement already satisfied: six in /usr/local/lib/python3.6/dist-packages (from patsy>=0.4.0->statsmodels>=0.9.0->pyramid-arima) (1.15.0)\n"
          ],
          "name": "stdout"
        }
      ]
    },
    {
      "cell_type": "code",
      "metadata": {
        "id": "Az9S54n-peif",
        "colab_type": "code",
        "colab": {
          "base_uri": "https://localhost:8080/",
          "height": 181
        },
        "outputId": "e16cebc3-c374-40d2-9fa0-7a10f2200454"
      },
      "source": [
        "from pyramid.arima import auto_arima\n",
        "\n",
        "'''SARIMA Implementation on log model'''\n",
        "\n",
        "stepwise_model_log = auto_arima(train_cps_log, start_p = 1, start_q = 1,\n",
        "                            max_p = 2, max_q = 2, m = 12,\n",
        "                            start_P = 0, seasonal = False,\n",
        "                            d = 0, D = 1, trace = True,\n",
        "                            error_action = 'ignore',\n",
        "                            suppress_warnings = True,\n",
        "                            stepwise_warnings = True,\n",
        "                            stepwise = True)\n",
        "\n",
        "print(stepwise_model_log.aic())"
      ],
      "execution_count": 82,
      "outputs": [
        {
          "output_type": "stream",
          "text": [
            "Fit ARIMA: order=(1, 0, 1); AIC=-2672.083, BIC=-2650.059, Fit time=0.285 seconds\n",
            "Fit ARIMA: order=(0, 0, 0); AIC=-1937.648, BIC=-1926.636, Fit time=0.005 seconds\n",
            "Fit ARIMA: order=(1, 0, 0); AIC=-2624.140, BIC=-2607.622, Fit time=0.039 seconds\n",
            "Fit ARIMA: order=(0, 0, 1); AIC=-2594.190, BIC=-2577.672, Fit time=0.045 seconds\n",
            "Fit ARIMA: order=(2, 0, 1); AIC=-2670.099, BIC=-2642.569, Fit time=0.337 seconds\n",
            "Fit ARIMA: order=(1, 0, 2); AIC=-2670.092, BIC=-2642.561, Fit time=0.395 seconds\n",
            "Fit ARIMA: order=(2, 0, 2); AIC=-2671.670, BIC=-2638.634, Fit time=0.895 seconds\n",
            "Total fit time: 2.004 seconds\n",
            "-2672.0828487679337\n"
          ],
          "name": "stdout"
        }
      ]
    },
    {
      "cell_type": "code",
      "metadata": {
        "id": "xc5Ikzm_sgiz",
        "colab_type": "code",
        "colab": {
          "base_uri": "https://localhost:8080/",
          "height": 35
        },
        "outputId": "cdfffd80-8a8f-44c7-bebf-131481bbc216"
      },
      "source": [
        "stepwise_model_log.fit(train_cps_log)\n",
        "print('Done')"
      ],
      "execution_count": 83,
      "outputs": [
        {
          "output_type": "stream",
          "text": [
            "Done\n"
          ],
          "name": "stdout"
        }
      ]
    },
    {
      "cell_type": "code",
      "metadata": {
        "id": "0trNnFIDqgVG",
        "colab_type": "code",
        "colab": {}
      },
      "source": [
        "future_forecast_log = stepwise_model_log.predict(n_periods = 4)"
      ],
      "execution_count": 84,
      "outputs": []
    },
    {
      "cell_type": "code",
      "metadata": {
        "id": "7Fj0bTdAX4_M",
        "colab_type": "code",
        "colab": {}
      },
      "source": [
        "y_hat = (future_forecast_log*std_dev)+mean\n",
        "y_test = (test_cps_log*std_dev)+mean"
      ],
      "execution_count": 85,
      "outputs": []
    },
    {
      "cell_type": "code",
      "metadata": {
        "id": "-UFeQQtssn7J",
        "colab_type": "code",
        "colab": {
          "base_uri": "https://localhost:8080/",
          "height": 483
        },
        "outputId": "78347924-61f0-41db-8b05-791c7e2503bb"
      },
      "source": [
        "# future_forecast_antilog = np.exp(future_forecast_log)   #Converting log into normal values\n",
        "\n",
        "#Visualisation of Predicted vs Original\n",
        "plt.plot(y_test, label = 'Original Data')\n",
        "plt.plot(y_hat, label = 'Predicted Data')\n",
        "plt.legend()\n",
        "plt.show()"
      ],
      "execution_count": 86,
      "outputs": [
        {
          "output_type": "display_data",
          "data": {
            "image/png": "[encoded data removed]",
            "text/plain": [
              "<Figure size 1080x576 with 1 Axes>"
            ]
          },
          "metadata": {
            "tags": [],
            "needs_background": "light"
          }
        }
      ]
    },
    {
      "cell_type": "code",
      "metadata": {
        "id": "TjIlFZP9szcN",
        "colab_type": "code",
        "colab": {
          "base_uri": "https://localhost:8080/",
          "height": 90
        },
        "outputId": "0af62025-1a4f-4837-e770-08254dca77c6"
      },
      "source": [
        "from sklearn.metrics import mean_squared_error\n",
        "from sklearn.metrics import mean_absolute_error\n",
        "from math import sqrt\n",
        "def mean_absolute_percentage_error(y_true, y_pred): \n",
        "    return np.mean(np.abs((y_true - y_pred) / y_true)) * 100\n",
        "\n",
        "\n",
        "rms_new = sqrt(mean_squared_error(y_test, y_hat))\n",
        "print(rms_new)\n",
        "\n",
        "mse_new = mean_squared_error(y_test, y_hat)\n",
        "print(mse_new)\n",
        "\n",
        "mae_new = mean_absolute_error(y_test, y_hat)\n",
        "print(mae_new)\n",
        "\n",
        "mape_new = mean_absolute_percentage_error(y_test, y_hat)\n",
        "print(mape_new)"
      ],
      "execution_count": 87,
      "outputs": [
        {
          "output_type": "stream",
          "text": [
            "205.25818549391698\n",
            "42130.92271225523\n",
            "196.47148272402188\n",
            "54.635909685173736\n"
          ],
          "name": "stdout"
        }
      ]
    },
    {
      "cell_type": "code",
      "metadata": {
        "id": "YLuFmWWVtC3_",
        "colab_type": "code",
        "colab": {}
      },
      "source": [
        ""
      ],
      "execution_count": null,
      "outputs": []
    }
  ]
}