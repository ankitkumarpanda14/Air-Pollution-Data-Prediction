{
  "nbformat": 4,
  "nbformat_minor": 0,
  "metadata": {
    "colab": {
      "name": "BeijingSVRPM2_5.ipynb",
      "provenance": [],
      "collapsed_sections": []
    },
    "kernelspec": {
      "name": "python3",
      "display_name": "Python 3"
    }
  },
  "cells": [
    {
      "cell_type": "code",
      "metadata": {
        "id": "Orc_tThRxQbA",
        "colab_type": "code",
        "colab": {}
      },
      "source": [
        "import pandas as pd          \n",
        "import numpy as np          # For mathematical calculations\n",
        "import matplotlib.pyplot as plt  # For plotting graphs\n",
        "from datetime import datetime    # To access datetime\n",
        "from pandas import Series        # To work on series\n",
        "import matplotlib\n",
        "import warnings                   # To ignore the warnings\n",
        "warnings.filterwarnings(\"ignore\")\n",
        "from math import sqrt\n",
        "from sklearn.metrics import mean_squared_error\n",
        "from numpy import array\n",
        "from sklearn.preprocessing import LabelEncoder\n",
        "import scipy.stats as stats"
      ],
      "execution_count": 202,
      "outputs": []
    },
    {
      "cell_type": "code",
      "metadata": {
        "id": "R3PeUnunxcb9",
        "colab_type": "code",
        "colab": {
          "base_uri": "https://localhost:8080/",
          "height": 199
        },
        "outputId": "f877094e-aede-42f6-e690-d7a6e8365018"
      },
      "source": [
        "df = pd.read_csv('PRSA_data.csv')\n",
        "\n",
        "df = df.drop(['Ir','No','Is'],axis = 1)\n",
        "\n",
        "#Changing the column names\n",
        "cnames = list(df.columns)\n",
        "\n",
        "#Drop the first row \n",
        "df = df[24:]\n",
        "\n",
        "df.dtypes\n",
        "\n",
        "df.reset_index(inplace = True)\n",
        "df = df.drop(['index'], axis = 1)\n",
        "\n",
        "df_new = df[['year', 'month', 'day', 'hour']]\n",
        "df_new['date'] = pd.to_datetime(df_new)\n",
        "\n",
        "df['date'] = df_new['date']\n",
        "\n",
        "#Set the date as Index\n",
        "df = df.set_index(df['date'],drop = False)\n",
        "df = df.sort_index()\n",
        "\n",
        "# df_cbwd = df['cbwd']\n",
        "# df_cbwd['cbwd_mode'] = df_cbwd.resample(\"d\").apply(lambda x: stats.mode(x)[0])\n",
        "\n",
        "# df = df.resample('d').mean()\n",
        "# df['cbwd'] = df_cbwd['cbwd_mode']\n",
        "\n",
        "df['day_of_week'] = df.index.dayofweek\n",
        "\n",
        "def weekend(row):\n",
        "    if (row == 5) or (row == 6):\n",
        "        return 1\n",
        "    else:\n",
        "        return 0\n",
        "\n",
        "df['weekend'] = df['day_of_week'].apply(weekend)\n",
        "\n",
        "\n",
        "mean = df['pm2.5'].min()\n",
        "std_dev = df['pm2.5'].max() - df['pm2.5'].min()\n",
        "\n",
        "for field in cnames:\n",
        "    print(field, df[field].isna().sum())\n",
        "\n",
        "df['pm2.5'] = df['pm2.5'].fillna(df['pm2.5'].mean())\n",
        "\n",
        "df = pd.get_dummies(df, columns = ['cbwd'] )    \n",
        "\n",
        "df['PM2.5'] = df['pm2.5']\n",
        "df = df.drop(['pm2.5'], axis = 1)\n",
        "\n",
        "df = df.drop(['hour', 'date'], axis = 1)\n",
        "\n",
        "cnames = list(df.columns)"
      ],
      "execution_count": 203,
      "outputs": [
        {
          "output_type": "stream",
          "text": [
            "year 0\n",
            "month 0\n",
            "day 0\n",
            "hour 0\n",
            "pm2.5 2043\n",
            "DEWP 0\n",
            "TEMP 0\n",
            "PRES 0\n",
            "cbwd 0\n",
            "Iws 0\n"
          ],
          "name": "stdout"
        }
      ]
    },
    {
      "cell_type": "code",
      "metadata": {
        "id": "MQFLDQejDY3X",
        "colab_type": "code",
        "colab": {
          "base_uri": "https://localhost:8080/",
          "height": 237
        },
        "outputId": "6339243e-b7ea-4357-b4b3-4bc93067b9dd"
      },
      "source": [
        "df.head()"
      ],
      "execution_count": 204,
      "outputs": [
        {
          "output_type": "execute_result",
          "data": {
            "text/html": [
              "<div>\n",
              "<style scoped>\n",
              "    .dataframe tbody tr th:only-of-type {\n",
              "        vertical-align: middle;\n",
              "    }\n",
              "\n",
              "    .dataframe tbody tr th {\n",
              "        vertical-align: top;\n",
              "    }\n",
              "\n",
              "    .dataframe thead th {\n",
              "        text-align: right;\n",
              "    }\n",
              "</style>\n",
              "<table border=\"1\" class=\"dataframe\">\n",
              "  <thead>\n",
              "    <tr style=\"text-align: right;\">\n",
              "      <th></th>\n",
              "      <th>year</th>\n",
              "      <th>month</th>\n",
              "      <th>day</th>\n",
              "      <th>DEWP</th>\n",
              "      <th>TEMP</th>\n",
              "      <th>PRES</th>\n",
              "      <th>Iws</th>\n",
              "      <th>day_of_week</th>\n",
              "      <th>weekend</th>\n",
              "      <th>cbwd_NE</th>\n",
              "      <th>cbwd_NW</th>\n",
              "      <th>cbwd_SE</th>\n",
              "      <th>cbwd_cv</th>\n",
              "      <th>PM2.5</th>\n",
              "    </tr>\n",
              "    <tr>\n",
              "      <th>date</th>\n",
              "      <th></th>\n",
              "      <th></th>\n",
              "      <th></th>\n",
              "      <th></th>\n",
              "      <th></th>\n",
              "      <th></th>\n",
              "      <th></th>\n",
              "      <th></th>\n",
              "      <th></th>\n",
              "      <th></th>\n",
              "      <th></th>\n",
              "      <th></th>\n",
              "      <th></th>\n",
              "      <th></th>\n",
              "    </tr>\n",
              "  </thead>\n",
              "  <tbody>\n",
              "    <tr>\n",
              "      <th>2010-01-02 00:00:00</th>\n",
              "      <td>2010</td>\n",
              "      <td>1</td>\n",
              "      <td>2</td>\n",
              "      <td>-16</td>\n",
              "      <td>-4.0</td>\n",
              "      <td>1020.0</td>\n",
              "      <td>1.79</td>\n",
              "      <td>5</td>\n",
              "      <td>1</td>\n",
              "      <td>0</td>\n",
              "      <td>0</td>\n",
              "      <td>1</td>\n",
              "      <td>0</td>\n",
              "      <td>129.0</td>\n",
              "    </tr>\n",
              "    <tr>\n",
              "      <th>2010-01-02 01:00:00</th>\n",
              "      <td>2010</td>\n",
              "      <td>1</td>\n",
              "      <td>2</td>\n",
              "      <td>-15</td>\n",
              "      <td>-4.0</td>\n",
              "      <td>1020.0</td>\n",
              "      <td>2.68</td>\n",
              "      <td>5</td>\n",
              "      <td>1</td>\n",
              "      <td>0</td>\n",
              "      <td>0</td>\n",
              "      <td>1</td>\n",
              "      <td>0</td>\n",
              "      <td>148.0</td>\n",
              "    </tr>\n",
              "    <tr>\n",
              "      <th>2010-01-02 02:00:00</th>\n",
              "      <td>2010</td>\n",
              "      <td>1</td>\n",
              "      <td>2</td>\n",
              "      <td>-11</td>\n",
              "      <td>-5.0</td>\n",
              "      <td>1021.0</td>\n",
              "      <td>3.57</td>\n",
              "      <td>5</td>\n",
              "      <td>1</td>\n",
              "      <td>0</td>\n",
              "      <td>0</td>\n",
              "      <td>1</td>\n",
              "      <td>0</td>\n",
              "      <td>159.0</td>\n",
              "    </tr>\n",
              "    <tr>\n",
              "      <th>2010-01-02 03:00:00</th>\n",
              "      <td>2010</td>\n",
              "      <td>1</td>\n",
              "      <td>2</td>\n",
              "      <td>-7</td>\n",
              "      <td>-5.0</td>\n",
              "      <td>1022.0</td>\n",
              "      <td>5.36</td>\n",
              "      <td>5</td>\n",
              "      <td>1</td>\n",
              "      <td>0</td>\n",
              "      <td>0</td>\n",
              "      <td>1</td>\n",
              "      <td>0</td>\n",
              "      <td>181.0</td>\n",
              "    </tr>\n",
              "    <tr>\n",
              "      <th>2010-01-02 04:00:00</th>\n",
              "      <td>2010</td>\n",
              "      <td>1</td>\n",
              "      <td>2</td>\n",
              "      <td>-7</td>\n",
              "      <td>-5.0</td>\n",
              "      <td>1022.0</td>\n",
              "      <td>6.25</td>\n",
              "      <td>5</td>\n",
              "      <td>1</td>\n",
              "      <td>0</td>\n",
              "      <td>0</td>\n",
              "      <td>1</td>\n",
              "      <td>0</td>\n",
              "      <td>138.0</td>\n",
              "    </tr>\n",
              "  </tbody>\n",
              "</table>\n",
              "</div>"
            ],
            "text/plain": [
              "                     year  month  day  DEWP  ...  cbwd_NW  cbwd_SE  cbwd_cv  PM2.5\n",
              "date                                         ...                                  \n",
              "2010-01-02 00:00:00  2010      1    2   -16  ...        0        1        0  129.0\n",
              "2010-01-02 01:00:00  2010      1    2   -15  ...        0        1        0  148.0\n",
              "2010-01-02 02:00:00  2010      1    2   -11  ...        0        1        0  159.0\n",
              "2010-01-02 03:00:00  2010      1    2    -7  ...        0        1        0  181.0\n",
              "2010-01-02 04:00:00  2010      1    2    -7  ...        0        1        0  138.0\n",
              "\n",
              "[5 rows x 14 columns]"
            ]
          },
          "metadata": {
            "tags": []
          },
          "execution_count": 204
        }
      ]
    },
    {
      "cell_type": "code",
      "metadata": {
        "id": "epilIEuzkhhN",
        "colab_type": "code",
        "colab": {}
      },
      "source": [
        "df = df.resample('d').mean()"
      ],
      "execution_count": 205,
      "outputs": []
    },
    {
      "cell_type": "code",
      "metadata": {
        "id": "G1ibrB9gkm7P",
        "colab_type": "code",
        "colab": {
          "base_uri": "https://localhost:8080/",
          "height": 257
        },
        "outputId": "fdf79ca9-93c2-4c82-e5de-e8bcf244b385"
      },
      "source": [
        "df.head()"
      ],
      "execution_count": 206,
      "outputs": [
        {
          "output_type": "execute_result",
          "data": {
            "text/html": [
              "<div>\n",
              "<style scoped>\n",
              "    .dataframe tbody tr th:only-of-type {\n",
              "        vertical-align: middle;\n",
              "    }\n",
              "\n",
              "    .dataframe tbody tr th {\n",
              "        vertical-align: top;\n",
              "    }\n",
              "\n",
              "    .dataframe thead th {\n",
              "        text-align: right;\n",
              "    }\n",
              "</style>\n",
              "<table border=\"1\" class=\"dataframe\">\n",
              "  <thead>\n",
              "    <tr style=\"text-align: right;\">\n",
              "      <th></th>\n",
              "      <th>year</th>\n",
              "      <th>month</th>\n",
              "      <th>day</th>\n",
              "      <th>DEWP</th>\n",
              "      <th>TEMP</th>\n",
              "      <th>PRES</th>\n",
              "      <th>Iws</th>\n",
              "      <th>day_of_week</th>\n",
              "      <th>weekend</th>\n",
              "      <th>cbwd_NE</th>\n",
              "      <th>cbwd_NW</th>\n",
              "      <th>cbwd_SE</th>\n",
              "      <th>cbwd_cv</th>\n",
              "      <th>PM2.5</th>\n",
              "    </tr>\n",
              "    <tr>\n",
              "      <th>date</th>\n",
              "      <th></th>\n",
              "      <th></th>\n",
              "      <th></th>\n",
              "      <th></th>\n",
              "      <th></th>\n",
              "      <th></th>\n",
              "      <th></th>\n",
              "      <th></th>\n",
              "      <th></th>\n",
              "      <th></th>\n",
              "      <th></th>\n",
              "      <th></th>\n",
              "      <th></th>\n",
              "      <th></th>\n",
              "    </tr>\n",
              "  </thead>\n",
              "  <tbody>\n",
              "    <tr>\n",
              "      <th>2010-01-02</th>\n",
              "      <td>2010.0</td>\n",
              "      <td>1.0</td>\n",
              "      <td>2.0</td>\n",
              "      <td>-8.500000</td>\n",
              "      <td>-5.125000</td>\n",
              "      <td>1024.750000</td>\n",
              "      <td>24.860000</td>\n",
              "      <td>5.0</td>\n",
              "      <td>1.0</td>\n",
              "      <td>0.000</td>\n",
              "      <td>0.000000</td>\n",
              "      <td>1.00</td>\n",
              "      <td>0.000000</td>\n",
              "      <td>145.958333</td>\n",
              "    </tr>\n",
              "    <tr>\n",
              "      <th>2010-01-03</th>\n",
              "      <td>2010.0</td>\n",
              "      <td>1.0</td>\n",
              "      <td>3.0</td>\n",
              "      <td>-10.125000</td>\n",
              "      <td>-8.541667</td>\n",
              "      <td>1022.791667</td>\n",
              "      <td>70.937917</td>\n",
              "      <td>6.0</td>\n",
              "      <td>1.0</td>\n",
              "      <td>0.000</td>\n",
              "      <td>0.166667</td>\n",
              "      <td>0.75</td>\n",
              "      <td>0.083333</td>\n",
              "      <td>78.833333</td>\n",
              "    </tr>\n",
              "    <tr>\n",
              "      <th>2010-01-04</th>\n",
              "      <td>2010.0</td>\n",
              "      <td>1.0</td>\n",
              "      <td>4.0</td>\n",
              "      <td>-20.875000</td>\n",
              "      <td>-11.500000</td>\n",
              "      <td>1029.291667</td>\n",
              "      <td>111.160833</td>\n",
              "      <td>0.0</td>\n",
              "      <td>0.0</td>\n",
              "      <td>0.000</td>\n",
              "      <td>1.000000</td>\n",
              "      <td>0.00</td>\n",
              "      <td>0.000000</td>\n",
              "      <td>31.333333</td>\n",
              "    </tr>\n",
              "    <tr>\n",
              "      <th>2010-01-05</th>\n",
              "      <td>2010.0</td>\n",
              "      <td>1.0</td>\n",
              "      <td>5.0</td>\n",
              "      <td>-24.583333</td>\n",
              "      <td>-14.458333</td>\n",
              "      <td>1033.625000</td>\n",
              "      <td>56.920000</td>\n",
              "      <td>1.0</td>\n",
              "      <td>0.0</td>\n",
              "      <td>0.375</td>\n",
              "      <td>0.583333</td>\n",
              "      <td>0.00</td>\n",
              "      <td>0.041667</td>\n",
              "      <td>42.458333</td>\n",
              "    </tr>\n",
              "    <tr>\n",
              "      <th>2010-01-06</th>\n",
              "      <td>2010.0</td>\n",
              "      <td>1.0</td>\n",
              "      <td>6.0</td>\n",
              "      <td>-23.708333</td>\n",
              "      <td>-12.541667</td>\n",
              "      <td>1033.750000</td>\n",
              "      <td>18.511667</td>\n",
              "      <td>2.0</td>\n",
              "      <td>0.0</td>\n",
              "      <td>0.500</td>\n",
              "      <td>0.416667</td>\n",
              "      <td>0.00</td>\n",
              "      <td>0.083333</td>\n",
              "      <td>56.416667</td>\n",
              "    </tr>\n",
              "  </tbody>\n",
              "</table>\n",
              "</div>"
            ],
            "text/plain": [
              "              year  month  day  ...  cbwd_SE   cbwd_cv       PM2.5\n",
              "date                            ...                               \n",
              "2010-01-02  2010.0    1.0  2.0  ...     1.00  0.000000  145.958333\n",
              "2010-01-03  2010.0    1.0  3.0  ...     0.75  0.083333   78.833333\n",
              "2010-01-04  2010.0    1.0  4.0  ...     0.00  0.000000   31.333333\n",
              "2010-01-05  2010.0    1.0  5.0  ...     0.00  0.041667   42.458333\n",
              "2010-01-06  2010.0    1.0  6.0  ...     0.00  0.083333   56.416667\n",
              "\n",
              "[5 rows x 14 columns]"
            ]
          },
          "metadata": {
            "tags": []
          },
          "execution_count": 206
        }
      ]
    },
    {
      "cell_type": "code",
      "metadata": {
        "id": "cZtSCLENpMa7",
        "colab_type": "code",
        "colab": {}
      },
      "source": [
        "df = df.iloc[:-2,:]"
      ],
      "execution_count": 207,
      "outputs": []
    },
    {
      "cell_type": "code",
      "metadata": {
        "id": "WRnQlysCx1ex",
        "colab_type": "code",
        "colab": {}
      },
      "source": [
        "def split_sequences(sequences, n_steps_in, n_steps_out):\n",
        "\tX, y = list(), list()\n",
        "\tfor i in range(len(sequences)):\n",
        "\t\t# find the end of this pattern\n",
        "\t\tend_ix = i + n_steps_in\n",
        "\t\tout_end_ix = end_ix + n_steps_out-1\n",
        "\t\t# check if we are beyond the dataset\n",
        "\t\tif out_end_ix > len(sequences):\n",
        "\t\t\tbreak\n",
        "\t\t# gather input and output parts of the pattern\n",
        "\t\tseq_x, seq_y = sequences[i:end_ix, :-1], sequences[end_ix-1:out_end_ix, -1]\n",
        "\t\tX.append(seq_x)\n",
        "\t\ty.append(seq_y)\n",
        "\treturn array(X), array(y)\n",
        "\n",
        "for field in cnames:\n",
        "    df[field] = (df[field] - df[field].min())/(df[field].max() - df[field].min())\n",
        "\n",
        "# choose a number of time steps\n",
        "n_steps_in, n_steps_out = 15, 4\n",
        "\n",
        "X, y = split_sequences(df.values, n_steps_in, n_steps_out)\n",
        "\n",
        "X_test, y_test = X[-1], y[-1]\n",
        "\n",
        "for i in range(n_steps_out):\n",
        "\tX = np.delete(X, X.shape[0] - 1, 0)\n",
        "\ty = np.delete(y, y.shape[0] - 1, 0)\n",
        "\n",
        "n_features = X.shape[2]\n",
        "X_svr = X[:,:,0]"
      ],
      "execution_count": 208,
      "outputs": []
    },
    {
      "cell_type": "code",
      "metadata": {
        "id": "T2zm9tzi0C12",
        "colab_type": "code",
        "colab": {
          "base_uri": "https://localhost:8080/",
          "height": 237
        },
        "outputId": "1c289e9b-9e99-4d8c-caed-52fbec72d272"
      },
      "source": [
        "df.head()"
      ],
      "execution_count": 209,
      "outputs": [
        {
          "output_type": "execute_result",
          "data": {
            "text/html": [
              "<div>\n",
              "<style scoped>\n",
              "    .dataframe tbody tr th:only-of-type {\n",
              "        vertical-align: middle;\n",
              "    }\n",
              "\n",
              "    .dataframe tbody tr th {\n",
              "        vertical-align: top;\n",
              "    }\n",
              "\n",
              "    .dataframe thead th {\n",
              "        text-align: right;\n",
              "    }\n",
              "</style>\n",
              "<table border=\"1\" class=\"dataframe\">\n",
              "  <thead>\n",
              "    <tr style=\"text-align: right;\">\n",
              "      <th></th>\n",
              "      <th>year</th>\n",
              "      <th>month</th>\n",
              "      <th>day</th>\n",
              "      <th>DEWP</th>\n",
              "      <th>TEMP</th>\n",
              "      <th>PRES</th>\n",
              "      <th>Iws</th>\n",
              "      <th>day_of_week</th>\n",
              "      <th>weekend</th>\n",
              "      <th>cbwd_NE</th>\n",
              "      <th>cbwd_NW</th>\n",
              "      <th>cbwd_SE</th>\n",
              "      <th>cbwd_cv</th>\n",
              "      <th>PM2.5</th>\n",
              "    </tr>\n",
              "    <tr>\n",
              "      <th>date</th>\n",
              "      <th></th>\n",
              "      <th></th>\n",
              "      <th></th>\n",
              "      <th></th>\n",
              "      <th></th>\n",
              "      <th></th>\n",
              "      <th></th>\n",
              "      <th></th>\n",
              "      <th></th>\n",
              "      <th></th>\n",
              "      <th></th>\n",
              "      <th></th>\n",
              "      <th></th>\n",
              "      <th></th>\n",
              "    </tr>\n",
              "  </thead>\n",
              "  <tbody>\n",
              "    <tr>\n",
              "      <th>2010-01-02</th>\n",
              "      <td>0.0</td>\n",
              "      <td>0.0</td>\n",
              "      <td>0.033333</td>\n",
              "      <td>0.417075</td>\n",
              "      <td>0.197183</td>\n",
              "      <td>0.621417</td>\n",
              "      <td>0.050777</td>\n",
              "      <td>0.833333</td>\n",
              "      <td>1.0</td>\n",
              "      <td>0.000000</td>\n",
              "      <td>0.000000</td>\n",
              "      <td>1.00</td>\n",
              "      <td>0.000000</td>\n",
              "      <td>0.269502</td>\n",
              "    </tr>\n",
              "    <tr>\n",
              "      <th>2010-01-03</th>\n",
              "      <td>0.0</td>\n",
              "      <td>0.0</td>\n",
              "      <td>0.066667</td>\n",
              "      <td>0.389783</td>\n",
              "      <td>0.125000</td>\n",
              "      <td>0.581788</td>\n",
              "      <td>0.150561</td>\n",
              "      <td>1.000000</td>\n",
              "      <td>1.0</td>\n",
              "      <td>0.000000</td>\n",
              "      <td>0.166667</td>\n",
              "      <td>0.75</td>\n",
              "      <td>0.083333</td>\n",
              "      <td>0.142996</td>\n",
              "    </tr>\n",
              "    <tr>\n",
              "      <th>2010-01-04</th>\n",
              "      <td>0.0</td>\n",
              "      <td>0.0</td>\n",
              "      <td>0.100000</td>\n",
              "      <td>0.209237</td>\n",
              "      <td>0.062500</td>\n",
              "      <td>0.713322</td>\n",
              "      <td>0.237666</td>\n",
              "      <td>0.000000</td>\n",
              "      <td>0.0</td>\n",
              "      <td>0.000000</td>\n",
              "      <td>1.000000</td>\n",
              "      <td>0.00</td>\n",
              "      <td>0.000000</td>\n",
              "      <td>0.053476</td>\n",
              "    </tr>\n",
              "    <tr>\n",
              "      <th>2010-01-05</th>\n",
              "      <td>0.0</td>\n",
              "      <td>0.0</td>\n",
              "      <td>0.133333</td>\n",
              "      <td>0.146956</td>\n",
              "      <td>0.000000</td>\n",
              "      <td>0.801012</td>\n",
              "      <td>0.120205</td>\n",
              "      <td>0.166667</td>\n",
              "      <td>0.0</td>\n",
              "      <td>0.391304</td>\n",
              "      <td>0.583333</td>\n",
              "      <td>0.00</td>\n",
              "      <td>0.041667</td>\n",
              "      <td>0.074443</td>\n",
              "    </tr>\n",
              "    <tr>\n",
              "      <th>2010-01-06</th>\n",
              "      <td>0.0</td>\n",
              "      <td>0.0</td>\n",
              "      <td>0.166667</td>\n",
              "      <td>0.161652</td>\n",
              "      <td>0.040493</td>\n",
              "      <td>0.803541</td>\n",
              "      <td>0.037029</td>\n",
              "      <td>0.333333</td>\n",
              "      <td>0.0</td>\n",
              "      <td>0.521739</td>\n",
              "      <td>0.416667</td>\n",
              "      <td>0.00</td>\n",
              "      <td>0.083333</td>\n",
              "      <td>0.100749</td>\n",
              "    </tr>\n",
              "  </tbody>\n",
              "</table>\n",
              "</div>"
            ],
            "text/plain": [
              "            year  month       day  ...  cbwd_SE   cbwd_cv     PM2.5\n",
              "date                               ...                             \n",
              "2010-01-02   0.0    0.0  0.033333  ...     1.00  0.000000  0.269502\n",
              "2010-01-03   0.0    0.0  0.066667  ...     0.75  0.083333  0.142996\n",
              "2010-01-04   0.0    0.0  0.100000  ...     0.00  0.000000  0.053476\n",
              "2010-01-05   0.0    0.0  0.133333  ...     0.00  0.041667  0.074443\n",
              "2010-01-06   0.0    0.0  0.166667  ...     0.00  0.083333  0.100749\n",
              "\n",
              "[5 rows x 14 columns]"
            ]
          },
          "metadata": {
            "tags": []
          },
          "execution_count": 209
        }
      ]
    },
    {
      "cell_type": "code",
      "metadata": {
        "id": "1j15rt8iTxL3",
        "colab_type": "code",
        "colab": {
          "base_uri": "https://localhost:8080/",
          "height": 108
        },
        "outputId": "19f57528-80f9-40dd-9904-aa908a426c30"
      },
      "source": [
        "from sklearn.multioutput import MultiOutputRegressor\n",
        "from sklearn.ensemble import RandomForestRegressor\n",
        "from sklearn.svm import SVR\n",
        "\n",
        "# regr_multirf = MultiOutputRegressor(SVR(kernel='rbf'))\n",
        "\n",
        "regr_multirf = MultiOutputRegressor(estimator=SVR(kernel='rbf', degree = 5))\n",
        "regr_multirf.fit(X_svr, y)"
      ],
      "execution_count": 210,
      "outputs": [
        {
          "output_type": "execute_result",
          "data": {
            "text/plain": [
              "MultiOutputRegressor(estimator=SVR(C=1.0, cache_size=200, coef0=0.0, degree=5,\n",
              "                                   epsilon=0.1, gamma='scale', kernel='rbf',\n",
              "                                   max_iter=-1, shrinking=True, tol=0.001,\n",
              "                                   verbose=False),\n",
              "                     n_jobs=None)"
            ]
          },
          "metadata": {
            "tags": []
          },
          "execution_count": 210
        }
      ]
    },
    {
      "cell_type": "code",
      "metadata": {
        "id": "mcmNtBHcULm-",
        "colab_type": "code",
        "colab": {
          "base_uri": "https://localhost:8080/",
          "height": 35
        },
        "outputId": "81f2158b-1544-4807-9ab7-54b9625d7585"
      },
      "source": [
        "X_test.shape"
      ],
      "execution_count": 211,
      "outputs": [
        {
          "output_type": "execute_result",
          "data": {
            "text/plain": [
              "(15, 13)"
            ]
          },
          "metadata": {
            "tags": []
          },
          "execution_count": 211
        }
      ]
    },
    {
      "cell_type": "code",
      "metadata": {
        "id": "87sURxMzT7OX",
        "colab_type": "code",
        "colab": {}
      },
      "source": [
        "X_test = X_test.reshape((1, n_steps_in, n_features))\n",
        "X_test_new = X_test[:,:,0]\n",
        "yhat = regr_multirf.predict(X_test_new)"
      ],
      "execution_count": 212,
      "outputs": []
    },
    {
      "cell_type": "code",
      "metadata": {
        "id": "tMeYXuAQWJJR",
        "colab_type": "code",
        "colab": {
          "base_uri": "https://localhost:8080/",
          "height": 53
        },
        "outputId": "ed55a863-845c-475e-c9bc-17fc662d62dd"
      },
      "source": [
        "print(X_test_new.shape)\n",
        "print(yhat.shape)"
      ],
      "execution_count": 213,
      "outputs": [
        {
          "output_type": "stream",
          "text": [
            "(1, 15)\n",
            "(1, 4)\n"
          ],
          "name": "stdout"
        }
      ]
    },
    {
      "cell_type": "code",
      "metadata": {
        "id": "zfazcmC3UcnH",
        "colab_type": "code",
        "colab": {
          "base_uri": "https://localhost:8080/",
          "height": 53
        },
        "outputId": "5500bad0-430b-4723-90d7-b45294305752"
      },
      "source": [
        "print(yhat.shape)\n",
        "print(y_test.shape)"
      ],
      "execution_count": 214,
      "outputs": [
        {
          "output_type": "stream",
          "text": [
            "(1, 4)\n",
            "(4,)\n"
          ],
          "name": "stdout"
        }
      ]
    },
    {
      "cell_type": "code",
      "metadata": {
        "id": "Ci99r1E6Uf5q",
        "colab_type": "code",
        "colab": {
          "base_uri": "https://localhost:8080/",
          "height": 35
        },
        "outputId": "d755c66b-5b4d-4c6b-e8e5-30acad0e11a4"
      },
      "source": [
        "X.shape"
      ],
      "execution_count": 215,
      "outputs": [
        {
          "output_type": "execute_result",
          "data": {
            "text/plain": [
              "(1802, 15, 13)"
            ]
          },
          "metadata": {
            "tags": []
          },
          "execution_count": 215
        }
      ]
    },
    {
      "cell_type": "code",
      "metadata": {
        "id": "EmU5WTxDl69Y",
        "colab_type": "code",
        "colab": {
          "base_uri": "https://localhost:8080/",
          "height": 53
        },
        "outputId": "9976138d-cc09-453b-eeb2-e5af14c0656d"
      },
      "source": [
        "yhat = (yhat[0]*std_dev)+mean\n",
        "y_test = (y_test*std_dev)+mean\n",
        "print(yhat)\n",
        "print(y_test)"
      ],
      "execution_count": 216,
      "outputs": [
        {
          "output_type": "stream",
          "text": [
            "[156.3439851  156.83974768 155.97740506 154.39846108]\n",
            "[313.39075108 441.55703085 364.20454409 292.31590605]\n"
          ],
          "name": "stdout"
        }
      ]
    },
    {
      "cell_type": "code",
      "metadata": {
        "id": "qo6m7AlV1mze",
        "colab_type": "code",
        "colab": {
          "base_uri": "https://localhost:8080/",
          "height": 483
        },
        "outputId": "95a0888c-e9e5-47fc-d8b5-81f76942100c"
      },
      "source": [
        "#Setting default Plot Size\n",
        "from matplotlib.pylab import rcParams\n",
        "rcParams['figure.figsize'] = 15,8\n",
        "\n",
        "# fig, ax = plt.subplots()\n",
        "plt.plot(yhat, label = 'Predicted')\n",
        "plt.plot(y_test, label = 'Original')\n",
        "plt.legend()\n",
        "plt.show()"
      ],
      "execution_count": 217,
      "outputs": [
        {
          "output_type": "display_data",
          "data": {
            "image/png": "[encoded data removed]",
            "text/plain": [
              "<Figure size 1080x576 with 1 Axes>"
            ]
          },
          "metadata": {
            "tags": [],
            "needs_background": "light"
          }
        }
      ]
    },
    {
      "cell_type": "code",
      "metadata": {
        "id": "W0j9eCxj_NVi",
        "colab_type": "code",
        "colab": {
          "base_uri": "https://localhost:8080/",
          "height": 90
        },
        "outputId": "81095b8b-cdff-4bdc-f5bb-493268ecbb1e"
      },
      "source": [
        "from sklearn.metrics import mean_squared_error\n",
        "from sklearn.metrics import mean_absolute_error\n",
        "from math import sqrt\n",
        "def mean_absolute_percentage_error(y_true, y_pred): \n",
        "   return np.mean(np.abs((y_true - y_pred) / y_true)) * 100\n",
        "\n",
        "\n",
        "rms_new = sqrt(mean_squared_error(y_test, yhat))\n",
        "print(rms_new)\n",
        "\n",
        "mse_new = mean_squared_error(y_test, yhat)\n",
        "print(mse_new)\n",
        "\n",
        "mae_new = mean_absolute_error(y_test, yhat)\n",
        "print(mae_new)\n",
        "\n",
        "mape_new = mean_absolute_percentage_error(y_test, yhat)\n",
        "print(mape_new)"
      ],
      "execution_count": 218,
      "outputs": [
        {
          "output_type": "stream",
          "text": [
            "205.0045006176519\n",
            "42026.845273492836\n",
            "196.97715828717233\n",
            "54.73662760309141\n"
          ],
          "name": "stdout"
        }
      ]
    },
    {
      "cell_type": "code",
      "metadata": {
        "id": "Q4upJeIjshL4",
        "colab_type": "code",
        "colab": {}
      },
      "source": [
        ""
      ],
      "execution_count": 218,
      "outputs": []
    }
  ]
}