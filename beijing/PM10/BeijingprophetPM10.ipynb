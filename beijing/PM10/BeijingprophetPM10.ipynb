{
  "nbformat": 4,
  "nbformat_minor": 0,
  "metadata": {
    "colab": {
      "name": "beijingprophetPM10.ipynb",
      "provenance": [],
      "collapsed_sections": []
    },
    "kernelspec": {
      "name": "python3",
      "display_name": "Python 3"
    }
  },
  "cells": [
    {
      "cell_type": "code",
      "metadata": {
        "id": "Cc1mRWDXkz2O",
        "colab_type": "code",
        "colab": {}
      },
      "source": [
        "#Importing Libraries\n",
        "import pandas as pd          \n",
        "import numpy as np          # For mathematical calculations\n",
        "import matplotlib.pyplot as plt  # For plotting graphs\n",
        "from datetime import datetime    # To access datetime\n",
        "from pandas import Series        # To work on series\n",
        "import matplotlib\n",
        "import warnings                   # To ignore the warnings\n",
        "warnings.filterwarnings(\"ignore\")\n",
        "from math import sqrt\n",
        "from sklearn import metrics\n",
        "from sklearn.metrics import mean_squared_error\n",
        "from sklearn.metrics import mean_absolute_error"
      ],
      "execution_count": 213,
      "outputs": []
    },
    {
      "cell_type": "code",
      "metadata": {
        "id": "R3PeUnunxcb9",
        "colab_type": "code",
        "colab": {
          "base_uri": "https://localhost:8080/",
          "height": 308
        },
        "outputId": "34a9e796-6981-431a-ad72-2166fb49a2c1"
      },
      "source": [
        "df = pd.read_csv('/content/PRSA_Data_Gucheng.csv')\n",
        "\n",
        "df = df.drop(['No','station'],axis = 1)\n",
        "\n",
        "#Changing the column names\n",
        "cnames = list(df.columns)\n",
        "\n",
        "#Drop the first row \n",
        "#df = df[24:]\n",
        "\n",
        "df.dtypes\n",
        "\n",
        "df.reset_index(inplace = True)\n",
        "df = df.drop(['index'], axis = 1)\n",
        "\n",
        "df_new = df[['year', 'month', 'day', 'hour']]\n",
        "df_new['date'] = pd.to_datetime(df_new)\n",
        "\n",
        "df['date'] = df_new['date']\n",
        "\n",
        "#Set the date as Index\n",
        "df = df.set_index(df['date'],drop = False)\n",
        "df = df.sort_index()\n",
        "\n",
        "# df_cbwd = df['cbwd']\n",
        "# df_cbwd['cbwd_mode'] = df_cbwd.resample(\"d\").apply(lambda x: stats.mode(x)[0])\n",
        "\n",
        "# df = df.resample('d').mean()\n",
        "# df['cbwd'] = df_cbwd['cbwd_mode']\n",
        "\n",
        "df['day_of_week'] = df.index.dayofweek\n",
        "\n",
        "def weekend(row):\n",
        "    if (row == 5) or (row == 6):\n",
        "        return 1\n",
        "    else:\n",
        "        return 0\n",
        "\n",
        "df['weekend'] = df['day_of_week'].apply(weekend)\n",
        "\n",
        "\n",
        "mean = df['PM10'].min()\n",
        "std_dev = df['PM10'].max() - df['PM10'].min()\n",
        "\n",
        "for field in cnames:\n",
        "    print(field, df[field].isna().sum())\n",
        "\n",
        "df['PM10'] = df['PM10'].fillna(df['PM10'].mean())\n",
        "\n",
        "df = pd.get_dummies(df, columns = ['wd'] )    \n",
        "\n",
        "#df['PM10'] = df['PM10']\n",
        "#df = df.drop(['PM10'], axis = 1)\n",
        "\n",
        "df = df.drop(['hour', 'date'], axis = 1)\n",
        "\n",
        "cnames = list(df.columns)"
      ],
      "execution_count": 214,
      "outputs": [
        {
          "output_type": "stream",
          "text": [
            "year 0\n",
            "month 0\n",
            "day 0\n",
            "hour 0\n",
            "PM2.5 646\n",
            "PM10 381\n",
            "SO2 507\n",
            "NO2 668\n",
            "CO 1401\n",
            "O3 729\n",
            "TEMP 51\n",
            "PRES 50\n",
            "DEWP 51\n",
            "RAIN 43\n",
            "wd 159\n",
            "WSPM 42\n"
          ],
          "name": "stdout"
        }
      ]
    },
    {
      "cell_type": "code",
      "metadata": {
        "id": "gT9-yR4SSziK",
        "colab_type": "code",
        "colab": {
          "base_uri": "https://localhost:8080/",
          "height": 55
        },
        "outputId": "3cd6b89a-164c-4518-a76f-885cdde1a82b"
      },
      "source": [
        "print(cnames)"
      ],
      "execution_count": 215,
      "outputs": [
        {
          "output_type": "stream",
          "text": [
            "['year', 'month', 'day', 'PM2.5', 'PM10', 'SO2', 'NO2', 'CO', 'O3', 'TEMP', 'PRES', 'DEWP', 'RAIN', 'WSPM', 'day_of_week', 'weekend', 'wd_E', 'wd_ENE', 'wd_ESE', 'wd_N', 'wd_NE', 'wd_NNE', 'wd_NNW', 'wd_NW', 'wd_S', 'wd_SE', 'wd_SSE', 'wd_SSW', 'wd_SW', 'wd_W', 'wd_WNW', 'wd_WSW']\n"
          ],
          "name": "stdout"
        }
      ]
    },
    {
      "cell_type": "code",
      "metadata": {
        "id": "0W6aojq2SMQT",
        "colab_type": "code",
        "colab": {}
      },
      "source": [
        "for field in cnames:\n",
        "  df[field] = df[field].fillna(df[field].mean())"
      ],
      "execution_count": 216,
      "outputs": []
    },
    {
      "cell_type": "code",
      "metadata": {
        "id": "ybOU3drfSgIU",
        "colab_type": "code",
        "colab": {
          "base_uri": "https://localhost:8080/",
          "height": 598
        },
        "outputId": "cbd7eb39-765d-4a95-f4b9-6edea5c11e07"
      },
      "source": [
        "for field in cnames:\n",
        "    print(field, df[field].isna().sum())"
      ],
      "execution_count": 217,
      "outputs": [
        {
          "output_type": "stream",
          "text": [
            "year 0\n",
            "month 0\n",
            "day 0\n",
            "PM2.5 0\n",
            "PM10 0\n",
            "SO2 0\n",
            "NO2 0\n",
            "CO 0\n",
            "O3 0\n",
            "TEMP 0\n",
            "PRES 0\n",
            "DEWP 0\n",
            "RAIN 0\n",
            "WSPM 0\n",
            "day_of_week 0\n",
            "weekend 0\n",
            "wd_E 0\n",
            "wd_ENE 0\n",
            "wd_ESE 0\n",
            "wd_N 0\n",
            "wd_NE 0\n",
            "wd_NNE 0\n",
            "wd_NNW 0\n",
            "wd_NW 0\n",
            "wd_S 0\n",
            "wd_SE 0\n",
            "wd_SSE 0\n",
            "wd_SSW 0\n",
            "wd_SW 0\n",
            "wd_W 0\n",
            "wd_WNW 0\n",
            "wd_WSW 0\n"
          ],
          "name": "stdout"
        }
      ]
    },
    {
      "cell_type": "code",
      "metadata": {
        "id": "MQFLDQejDY3X",
        "colab_type": "code",
        "colab": {
          "base_uri": "https://localhost:8080/",
          "height": 344
        },
        "outputId": "d9c7db1d-05a5-4422-ffee-cdc23597b8ba"
      },
      "source": [
        "df.head()"
      ],
      "execution_count": 218,
      "outputs": [
        {
          "output_type": "execute_result",
          "data": {
            "text/html": [
              "<div>\n",
              "<style scoped>\n",
              "    .dataframe tbody tr th:only-of-type {\n",
              "        vertical-align: middle;\n",
              "    }\n",
              "\n",
              "    .dataframe tbody tr th {\n",
              "        vertical-align: top;\n",
              "    }\n",
              "\n",
              "    .dataframe thead th {\n",
              "        text-align: right;\n",
              "    }\n",
              "</style>\n",
              "<table border=\"1\" class=\"dataframe\">\n",
              "  <thead>\n",
              "    <tr style=\"text-align: right;\">\n",
              "      <th></th>\n",
              "      <th>year</th>\n",
              "      <th>month</th>\n",
              "      <th>day</th>\n",
              "      <th>PM2.5</th>\n",
              "      <th>PM10</th>\n",
              "      <th>SO2</th>\n",
              "      <th>NO2</th>\n",
              "      <th>CO</th>\n",
              "      <th>O3</th>\n",
              "      <th>TEMP</th>\n",
              "      <th>PRES</th>\n",
              "      <th>DEWP</th>\n",
              "      <th>RAIN</th>\n",
              "      <th>WSPM</th>\n",
              "      <th>day_of_week</th>\n",
              "      <th>weekend</th>\n",
              "      <th>wd_E</th>\n",
              "      <th>wd_ENE</th>\n",
              "      <th>wd_ESE</th>\n",
              "      <th>wd_N</th>\n",
              "      <th>wd_NE</th>\n",
              "      <th>wd_NNE</th>\n",
              "      <th>wd_NNW</th>\n",
              "      <th>wd_NW</th>\n",
              "      <th>wd_S</th>\n",
              "      <th>wd_SE</th>\n",
              "      <th>wd_SSE</th>\n",
              "      <th>wd_SSW</th>\n",
              "      <th>wd_SW</th>\n",
              "      <th>wd_W</th>\n",
              "      <th>wd_WNW</th>\n",
              "      <th>wd_WSW</th>\n",
              "    </tr>\n",
              "    <tr>\n",
              "      <th>date</th>\n",
              "      <th></th>\n",
              "      <th></th>\n",
              "      <th></th>\n",
              "      <th></th>\n",
              "      <th></th>\n",
              "      <th></th>\n",
              "      <th></th>\n",
              "      <th></th>\n",
              "      <th></th>\n",
              "      <th></th>\n",
              "      <th></th>\n",
              "      <th></th>\n",
              "      <th></th>\n",
              "      <th></th>\n",
              "      <th></th>\n",
              "      <th></th>\n",
              "      <th></th>\n",
              "      <th></th>\n",
              "      <th></th>\n",
              "      <th></th>\n",
              "      <th></th>\n",
              "      <th></th>\n",
              "      <th></th>\n",
              "      <th></th>\n",
              "      <th></th>\n",
              "      <th></th>\n",
              "      <th></th>\n",
              "      <th></th>\n",
              "      <th></th>\n",
              "      <th></th>\n",
              "      <th></th>\n",
              "      <th></th>\n",
              "    </tr>\n",
              "  </thead>\n",
              "  <tbody>\n",
              "    <tr>\n",
              "      <th>2013-03-01 00:00:00</th>\n",
              "      <td>2013</td>\n",
              "      <td>3</td>\n",
              "      <td>1</td>\n",
              "      <td>6.0</td>\n",
              "      <td>18.0</td>\n",
              "      <td>5.000000</td>\n",
              "      <td>55.871075</td>\n",
              "      <td>800.000000</td>\n",
              "      <td>88.000000</td>\n",
              "      <td>0.1</td>\n",
              "      <td>1021.1</td>\n",
              "      <td>-18.6</td>\n",
              "      <td>0.0</td>\n",
              "      <td>4.4</td>\n",
              "      <td>4</td>\n",
              "      <td>0</td>\n",
              "      <td>0</td>\n",
              "      <td>0</td>\n",
              "      <td>0</td>\n",
              "      <td>0</td>\n",
              "      <td>0</td>\n",
              "      <td>0</td>\n",
              "      <td>0</td>\n",
              "      <td>1</td>\n",
              "      <td>0</td>\n",
              "      <td>0</td>\n",
              "      <td>0</td>\n",
              "      <td>0</td>\n",
              "      <td>0</td>\n",
              "      <td>0</td>\n",
              "      <td>0</td>\n",
              "      <td>0</td>\n",
              "    </tr>\n",
              "    <tr>\n",
              "      <th>2013-03-01 01:00:00</th>\n",
              "      <td>2013</td>\n",
              "      <td>3</td>\n",
              "      <td>1</td>\n",
              "      <td>6.0</td>\n",
              "      <td>15.0</td>\n",
              "      <td>5.000000</td>\n",
              "      <td>55.871075</td>\n",
              "      <td>800.000000</td>\n",
              "      <td>88.000000</td>\n",
              "      <td>-0.3</td>\n",
              "      <td>1021.5</td>\n",
              "      <td>-19.0</td>\n",
              "      <td>0.0</td>\n",
              "      <td>4.0</td>\n",
              "      <td>4</td>\n",
              "      <td>0</td>\n",
              "      <td>0</td>\n",
              "      <td>0</td>\n",
              "      <td>0</td>\n",
              "      <td>0</td>\n",
              "      <td>0</td>\n",
              "      <td>0</td>\n",
              "      <td>0</td>\n",
              "      <td>1</td>\n",
              "      <td>0</td>\n",
              "      <td>0</td>\n",
              "      <td>0</td>\n",
              "      <td>0</td>\n",
              "      <td>0</td>\n",
              "      <td>0</td>\n",
              "      <td>0</td>\n",
              "      <td>0</td>\n",
              "    </tr>\n",
              "    <tr>\n",
              "      <th>2013-03-01 02:00:00</th>\n",
              "      <td>2013</td>\n",
              "      <td>3</td>\n",
              "      <td>1</td>\n",
              "      <td>5.0</td>\n",
              "      <td>18.0</td>\n",
              "      <td>15.366162</td>\n",
              "      <td>55.871075</td>\n",
              "      <td>700.000000</td>\n",
              "      <td>52.000000</td>\n",
              "      <td>-0.7</td>\n",
              "      <td>1021.5</td>\n",
              "      <td>-19.8</td>\n",
              "      <td>0.0</td>\n",
              "      <td>4.6</td>\n",
              "      <td>4</td>\n",
              "      <td>0</td>\n",
              "      <td>0</td>\n",
              "      <td>0</td>\n",
              "      <td>0</td>\n",
              "      <td>0</td>\n",
              "      <td>0</td>\n",
              "      <td>0</td>\n",
              "      <td>0</td>\n",
              "      <td>0</td>\n",
              "      <td>0</td>\n",
              "      <td>0</td>\n",
              "      <td>0</td>\n",
              "      <td>0</td>\n",
              "      <td>0</td>\n",
              "      <td>0</td>\n",
              "      <td>1</td>\n",
              "      <td>0</td>\n",
              "    </tr>\n",
              "    <tr>\n",
              "      <th>2013-03-01 03:00:00</th>\n",
              "      <td>2013</td>\n",
              "      <td>3</td>\n",
              "      <td>1</td>\n",
              "      <td>6.0</td>\n",
              "      <td>20.0</td>\n",
              "      <td>6.000000</td>\n",
              "      <td>55.871075</td>\n",
              "      <td>1323.974423</td>\n",
              "      <td>57.694879</td>\n",
              "      <td>-1.0</td>\n",
              "      <td>1022.7</td>\n",
              "      <td>-21.2</td>\n",
              "      <td>0.0</td>\n",
              "      <td>2.8</td>\n",
              "      <td>4</td>\n",
              "      <td>0</td>\n",
              "      <td>0</td>\n",
              "      <td>0</td>\n",
              "      <td>0</td>\n",
              "      <td>0</td>\n",
              "      <td>0</td>\n",
              "      <td>0</td>\n",
              "      <td>0</td>\n",
              "      <td>0</td>\n",
              "      <td>0</td>\n",
              "      <td>0</td>\n",
              "      <td>0</td>\n",
              "      <td>0</td>\n",
              "      <td>0</td>\n",
              "      <td>1</td>\n",
              "      <td>0</td>\n",
              "      <td>0</td>\n",
              "    </tr>\n",
              "    <tr>\n",
              "      <th>2013-03-01 04:00:00</th>\n",
              "      <td>2013</td>\n",
              "      <td>3</td>\n",
              "      <td>1</td>\n",
              "      <td>5.0</td>\n",
              "      <td>17.0</td>\n",
              "      <td>5.000000</td>\n",
              "      <td>55.871075</td>\n",
              "      <td>600.000000</td>\n",
              "      <td>73.000000</td>\n",
              "      <td>-1.3</td>\n",
              "      <td>1023.0</td>\n",
              "      <td>-21.4</td>\n",
              "      <td>0.0</td>\n",
              "      <td>3.6</td>\n",
              "      <td>4</td>\n",
              "      <td>0</td>\n",
              "      <td>0</td>\n",
              "      <td>0</td>\n",
              "      <td>0</td>\n",
              "      <td>0</td>\n",
              "      <td>0</td>\n",
              "      <td>0</td>\n",
              "      <td>0</td>\n",
              "      <td>0</td>\n",
              "      <td>0</td>\n",
              "      <td>0</td>\n",
              "      <td>0</td>\n",
              "      <td>0</td>\n",
              "      <td>0</td>\n",
              "      <td>0</td>\n",
              "      <td>1</td>\n",
              "      <td>0</td>\n",
              "    </tr>\n",
              "  </tbody>\n",
              "</table>\n",
              "</div>"
            ],
            "text/plain": [
              "                     year  month  day  PM2.5  ...  wd_SW  wd_W  wd_WNW  wd_WSW\n",
              "date                                          ...                             \n",
              "2013-03-01 00:00:00  2013      3    1    6.0  ...      0     0       0       0\n",
              "2013-03-01 01:00:00  2013      3    1    6.0  ...      0     0       0       0\n",
              "2013-03-01 02:00:00  2013      3    1    5.0  ...      0     0       1       0\n",
              "2013-03-01 03:00:00  2013      3    1    6.0  ...      0     1       0       0\n",
              "2013-03-01 04:00:00  2013      3    1    5.0  ...      0     0       1       0\n",
              "\n",
              "[5 rows x 32 columns]"
            ]
          },
          "metadata": {
            "tags": []
          },
          "execution_count": 218
        }
      ]
    },
    {
      "cell_type": "code",
      "metadata": {
        "id": "vTknV6YxTgM9",
        "colab_type": "code",
        "colab": {
          "base_uri": "https://localhost:8080/",
          "height": 344
        },
        "outputId": "dd38ba84-6f09-4471-96d9-d5b2ff7f0623"
      },
      "source": [
        "df['pm10'] = df['PM10']\n",
        "df = df.drop('PM10', axis = 1)\n",
        "df['PM10'] = df['pm10']\n",
        "df = df.drop('pm10', axis = 1)\n",
        "df.head()"
      ],
      "execution_count": 219,
      "outputs": [
        {
          "output_type": "execute_result",
          "data": {
            "text/html": [
              "<div>\n",
              "<style scoped>\n",
              "    .dataframe tbody tr th:only-of-type {\n",
              "        vertical-align: middle;\n",
              "    }\n",
              "\n",
              "    .dataframe tbody tr th {\n",
              "        vertical-align: top;\n",
              "    }\n",
              "\n",
              "    .dataframe thead th {\n",
              "        text-align: right;\n",
              "    }\n",
              "</style>\n",
              "<table border=\"1\" class=\"dataframe\">\n",
              "  <thead>\n",
              "    <tr style=\"text-align: right;\">\n",
              "      <th></th>\n",
              "      <th>year</th>\n",
              "      <th>month</th>\n",
              "      <th>day</th>\n",
              "      <th>PM2.5</th>\n",
              "      <th>SO2</th>\n",
              "      <th>NO2</th>\n",
              "      <th>CO</th>\n",
              "      <th>O3</th>\n",
              "      <th>TEMP</th>\n",
              "      <th>PRES</th>\n",
              "      <th>DEWP</th>\n",
              "      <th>RAIN</th>\n",
              "      <th>WSPM</th>\n",
              "      <th>day_of_week</th>\n",
              "      <th>weekend</th>\n",
              "      <th>wd_E</th>\n",
              "      <th>wd_ENE</th>\n",
              "      <th>wd_ESE</th>\n",
              "      <th>wd_N</th>\n",
              "      <th>wd_NE</th>\n",
              "      <th>wd_NNE</th>\n",
              "      <th>wd_NNW</th>\n",
              "      <th>wd_NW</th>\n",
              "      <th>wd_S</th>\n",
              "      <th>wd_SE</th>\n",
              "      <th>wd_SSE</th>\n",
              "      <th>wd_SSW</th>\n",
              "      <th>wd_SW</th>\n",
              "      <th>wd_W</th>\n",
              "      <th>wd_WNW</th>\n",
              "      <th>wd_WSW</th>\n",
              "      <th>PM10</th>\n",
              "    </tr>\n",
              "    <tr>\n",
              "      <th>date</th>\n",
              "      <th></th>\n",
              "      <th></th>\n",
              "      <th></th>\n",
              "      <th></th>\n",
              "      <th></th>\n",
              "      <th></th>\n",
              "      <th></th>\n",
              "      <th></th>\n",
              "      <th></th>\n",
              "      <th></th>\n",
              "      <th></th>\n",
              "      <th></th>\n",
              "      <th></th>\n",
              "      <th></th>\n",
              "      <th></th>\n",
              "      <th></th>\n",
              "      <th></th>\n",
              "      <th></th>\n",
              "      <th></th>\n",
              "      <th></th>\n",
              "      <th></th>\n",
              "      <th></th>\n",
              "      <th></th>\n",
              "      <th></th>\n",
              "      <th></th>\n",
              "      <th></th>\n",
              "      <th></th>\n",
              "      <th></th>\n",
              "      <th></th>\n",
              "      <th></th>\n",
              "      <th></th>\n",
              "      <th></th>\n",
              "    </tr>\n",
              "  </thead>\n",
              "  <tbody>\n",
              "    <tr>\n",
              "      <th>2013-03-01 00:00:00</th>\n",
              "      <td>2013</td>\n",
              "      <td>3</td>\n",
              "      <td>1</td>\n",
              "      <td>6.0</td>\n",
              "      <td>5.000000</td>\n",
              "      <td>55.871075</td>\n",
              "      <td>800.000000</td>\n",
              "      <td>88.000000</td>\n",
              "      <td>0.1</td>\n",
              "      <td>1021.1</td>\n",
              "      <td>-18.6</td>\n",
              "      <td>0.0</td>\n",
              "      <td>4.4</td>\n",
              "      <td>4</td>\n",
              "      <td>0</td>\n",
              "      <td>0</td>\n",
              "      <td>0</td>\n",
              "      <td>0</td>\n",
              "      <td>0</td>\n",
              "      <td>0</td>\n",
              "      <td>0</td>\n",
              "      <td>0</td>\n",
              "      <td>1</td>\n",
              "      <td>0</td>\n",
              "      <td>0</td>\n",
              "      <td>0</td>\n",
              "      <td>0</td>\n",
              "      <td>0</td>\n",
              "      <td>0</td>\n",
              "      <td>0</td>\n",
              "      <td>0</td>\n",
              "      <td>18.0</td>\n",
              "    </tr>\n",
              "    <tr>\n",
              "      <th>2013-03-01 01:00:00</th>\n",
              "      <td>2013</td>\n",
              "      <td>3</td>\n",
              "      <td>1</td>\n",
              "      <td>6.0</td>\n",
              "      <td>5.000000</td>\n",
              "      <td>55.871075</td>\n",
              "      <td>800.000000</td>\n",
              "      <td>88.000000</td>\n",
              "      <td>-0.3</td>\n",
              "      <td>1021.5</td>\n",
              "      <td>-19.0</td>\n",
              "      <td>0.0</td>\n",
              "      <td>4.0</td>\n",
              "      <td>4</td>\n",
              "      <td>0</td>\n",
              "      <td>0</td>\n",
              "      <td>0</td>\n",
              "      <td>0</td>\n",
              "      <td>0</td>\n",
              "      <td>0</td>\n",
              "      <td>0</td>\n",
              "      <td>0</td>\n",
              "      <td>1</td>\n",
              "      <td>0</td>\n",
              "      <td>0</td>\n",
              "      <td>0</td>\n",
              "      <td>0</td>\n",
              "      <td>0</td>\n",
              "      <td>0</td>\n",
              "      <td>0</td>\n",
              "      <td>0</td>\n",
              "      <td>15.0</td>\n",
              "    </tr>\n",
              "    <tr>\n",
              "      <th>2013-03-01 02:00:00</th>\n",
              "      <td>2013</td>\n",
              "      <td>3</td>\n",
              "      <td>1</td>\n",
              "      <td>5.0</td>\n",
              "      <td>15.366162</td>\n",
              "      <td>55.871075</td>\n",
              "      <td>700.000000</td>\n",
              "      <td>52.000000</td>\n",
              "      <td>-0.7</td>\n",
              "      <td>1021.5</td>\n",
              "      <td>-19.8</td>\n",
              "      <td>0.0</td>\n",
              "      <td>4.6</td>\n",
              "      <td>4</td>\n",
              "      <td>0</td>\n",
              "      <td>0</td>\n",
              "      <td>0</td>\n",
              "      <td>0</td>\n",
              "      <td>0</td>\n",
              "      <td>0</td>\n",
              "      <td>0</td>\n",
              "      <td>0</td>\n",
              "      <td>0</td>\n",
              "      <td>0</td>\n",
              "      <td>0</td>\n",
              "      <td>0</td>\n",
              "      <td>0</td>\n",
              "      <td>0</td>\n",
              "      <td>0</td>\n",
              "      <td>1</td>\n",
              "      <td>0</td>\n",
              "      <td>18.0</td>\n",
              "    </tr>\n",
              "    <tr>\n",
              "      <th>2013-03-01 03:00:00</th>\n",
              "      <td>2013</td>\n",
              "      <td>3</td>\n",
              "      <td>1</td>\n",
              "      <td>6.0</td>\n",
              "      <td>6.000000</td>\n",
              "      <td>55.871075</td>\n",
              "      <td>1323.974423</td>\n",
              "      <td>57.694879</td>\n",
              "      <td>-1.0</td>\n",
              "      <td>1022.7</td>\n",
              "      <td>-21.2</td>\n",
              "      <td>0.0</td>\n",
              "      <td>2.8</td>\n",
              "      <td>4</td>\n",
              "      <td>0</td>\n",
              "      <td>0</td>\n",
              "      <td>0</td>\n",
              "      <td>0</td>\n",
              "      <td>0</td>\n",
              "      <td>0</td>\n",
              "      <td>0</td>\n",
              "      <td>0</td>\n",
              "      <td>0</td>\n",
              "      <td>0</td>\n",
              "      <td>0</td>\n",
              "      <td>0</td>\n",
              "      <td>0</td>\n",
              "      <td>0</td>\n",
              "      <td>1</td>\n",
              "      <td>0</td>\n",
              "      <td>0</td>\n",
              "      <td>20.0</td>\n",
              "    </tr>\n",
              "    <tr>\n",
              "      <th>2013-03-01 04:00:00</th>\n",
              "      <td>2013</td>\n",
              "      <td>3</td>\n",
              "      <td>1</td>\n",
              "      <td>5.0</td>\n",
              "      <td>5.000000</td>\n",
              "      <td>55.871075</td>\n",
              "      <td>600.000000</td>\n",
              "      <td>73.000000</td>\n",
              "      <td>-1.3</td>\n",
              "      <td>1023.0</td>\n",
              "      <td>-21.4</td>\n",
              "      <td>0.0</td>\n",
              "      <td>3.6</td>\n",
              "      <td>4</td>\n",
              "      <td>0</td>\n",
              "      <td>0</td>\n",
              "      <td>0</td>\n",
              "      <td>0</td>\n",
              "      <td>0</td>\n",
              "      <td>0</td>\n",
              "      <td>0</td>\n",
              "      <td>0</td>\n",
              "      <td>0</td>\n",
              "      <td>0</td>\n",
              "      <td>0</td>\n",
              "      <td>0</td>\n",
              "      <td>0</td>\n",
              "      <td>0</td>\n",
              "      <td>0</td>\n",
              "      <td>1</td>\n",
              "      <td>0</td>\n",
              "      <td>17.0</td>\n",
              "    </tr>\n",
              "  </tbody>\n",
              "</table>\n",
              "</div>"
            ],
            "text/plain": [
              "                     year  month  day  PM2.5  ...  wd_W  wd_WNW  wd_WSW  PM10\n",
              "date                                          ...                            \n",
              "2013-03-01 00:00:00  2013      3    1    6.0  ...     0       0       0  18.0\n",
              "2013-03-01 01:00:00  2013      3    1    6.0  ...     0       0       0  15.0\n",
              "2013-03-01 02:00:00  2013      3    1    5.0  ...     0       1       0  18.0\n",
              "2013-03-01 03:00:00  2013      3    1    6.0  ...     1       0       0  20.0\n",
              "2013-03-01 04:00:00  2013      3    1    5.0  ...     0       1       0  17.0\n",
              "\n",
              "[5 rows x 32 columns]"
            ]
          },
          "metadata": {
            "tags": []
          },
          "execution_count": 219
        }
      ]
    },
    {
      "cell_type": "code",
      "metadata": {
        "id": "epilIEuzkhhN",
        "colab_type": "code",
        "colab": {}
      },
      "source": [
        "df = df.resample('d').mean()"
      ],
      "execution_count": 220,
      "outputs": []
    },
    {
      "cell_type": "code",
      "metadata": {
        "id": "G1ibrB9gkm7P",
        "colab_type": "code",
        "colab": {
          "base_uri": "https://localhost:8080/",
          "height": 257
        },
        "outputId": "ddec5751-440f-4499-8c67-995e1362e848"
      },
      "source": [
        "df.head()"
      ],
      "execution_count": 221,
      "outputs": [
        {
          "output_type": "execute_result",
          "data": {
            "text/html": [
              "<div>\n",
              "<style scoped>\n",
              "    .dataframe tbody tr th:only-of-type {\n",
              "        vertical-align: middle;\n",
              "    }\n",
              "\n",
              "    .dataframe tbody tr th {\n",
              "        vertical-align: top;\n",
              "    }\n",
              "\n",
              "    .dataframe thead th {\n",
              "        text-align: right;\n",
              "    }\n",
              "</style>\n",
              "<table border=\"1\" class=\"dataframe\">\n",
              "  <thead>\n",
              "    <tr style=\"text-align: right;\">\n",
              "      <th></th>\n",
              "      <th>year</th>\n",
              "      <th>month</th>\n",
              "      <th>day</th>\n",
              "      <th>PM2.5</th>\n",
              "      <th>SO2</th>\n",
              "      <th>NO2</th>\n",
              "      <th>CO</th>\n",
              "      <th>O3</th>\n",
              "      <th>TEMP</th>\n",
              "      <th>PRES</th>\n",
              "      <th>DEWP</th>\n",
              "      <th>RAIN</th>\n",
              "      <th>WSPM</th>\n",
              "      <th>day_of_week</th>\n",
              "      <th>weekend</th>\n",
              "      <th>wd_E</th>\n",
              "      <th>wd_ENE</th>\n",
              "      <th>wd_ESE</th>\n",
              "      <th>wd_N</th>\n",
              "      <th>wd_NE</th>\n",
              "      <th>wd_NNE</th>\n",
              "      <th>wd_NNW</th>\n",
              "      <th>wd_NW</th>\n",
              "      <th>wd_S</th>\n",
              "      <th>wd_SE</th>\n",
              "      <th>wd_SSE</th>\n",
              "      <th>wd_SSW</th>\n",
              "      <th>wd_SW</th>\n",
              "      <th>wd_W</th>\n",
              "      <th>wd_WNW</th>\n",
              "      <th>wd_WSW</th>\n",
              "      <th>PM10</th>\n",
              "    </tr>\n",
              "    <tr>\n",
              "      <th>date</th>\n",
              "      <th></th>\n",
              "      <th></th>\n",
              "      <th></th>\n",
              "      <th></th>\n",
              "      <th></th>\n",
              "      <th></th>\n",
              "      <th></th>\n",
              "      <th></th>\n",
              "      <th></th>\n",
              "      <th></th>\n",
              "      <th></th>\n",
              "      <th></th>\n",
              "      <th></th>\n",
              "      <th></th>\n",
              "      <th></th>\n",
              "      <th></th>\n",
              "      <th></th>\n",
              "      <th></th>\n",
              "      <th></th>\n",
              "      <th></th>\n",
              "      <th></th>\n",
              "      <th></th>\n",
              "      <th></th>\n",
              "      <th></th>\n",
              "      <th></th>\n",
              "      <th></th>\n",
              "      <th></th>\n",
              "      <th></th>\n",
              "      <th></th>\n",
              "      <th></th>\n",
              "      <th></th>\n",
              "      <th></th>\n",
              "    </tr>\n",
              "  </thead>\n",
              "  <tbody>\n",
              "    <tr>\n",
              "      <th>2013-03-01</th>\n",
              "      <td>2013</td>\n",
              "      <td>3</td>\n",
              "      <td>1</td>\n",
              "      <td>8.625000</td>\n",
              "      <td>7.723590</td>\n",
              "      <td>48.934229</td>\n",
              "      <td>888.498934</td>\n",
              "      <td>76.320620</td>\n",
              "      <td>1.691667</td>\n",
              "      <td>1024.816667</td>\n",
              "      <td>-19.691667</td>\n",
              "      <td>0.0</td>\n",
              "      <td>2.350000</td>\n",
              "      <td>4</td>\n",
              "      <td>0</td>\n",
              "      <td>0.166667</td>\n",
              "      <td>0.333333</td>\n",
              "      <td>0.083333</td>\n",
              "      <td>0.000000</td>\n",
              "      <td>0.125000</td>\n",
              "      <td>0.000000</td>\n",
              "      <td>0.000000</td>\n",
              "      <td>0.083333</td>\n",
              "      <td>0.000000</td>\n",
              "      <td>0.000000</td>\n",
              "      <td>0.041667</td>\n",
              "      <td>0.000000</td>\n",
              "      <td>0.000000</td>\n",
              "      <td>0.041667</td>\n",
              "      <td>0.125000</td>\n",
              "      <td>0.000000</td>\n",
              "      <td>16.875000</td>\n",
              "    </tr>\n",
              "    <tr>\n",
              "      <th>2013-03-02</th>\n",
              "      <td>2013</td>\n",
              "      <td>3</td>\n",
              "      <td>2</td>\n",
              "      <td>36.916667</td>\n",
              "      <td>37.291667</td>\n",
              "      <td>38.327961</td>\n",
              "      <td>1479.041667</td>\n",
              "      <td>39.583333</td>\n",
              "      <td>0.820833</td>\n",
              "      <td>1024.900000</td>\n",
              "      <td>-16.337500</td>\n",
              "      <td>0.0</td>\n",
              "      <td>1.087500</td>\n",
              "      <td>5</td>\n",
              "      <td>1</td>\n",
              "      <td>0.125000</td>\n",
              "      <td>0.208333</td>\n",
              "      <td>0.041667</td>\n",
              "      <td>0.000000</td>\n",
              "      <td>0.041667</td>\n",
              "      <td>0.041667</td>\n",
              "      <td>0.041667</td>\n",
              "      <td>0.041667</td>\n",
              "      <td>0.083333</td>\n",
              "      <td>0.041667</td>\n",
              "      <td>0.166667</td>\n",
              "      <td>0.083333</td>\n",
              "      <td>0.083333</td>\n",
              "      <td>0.000000</td>\n",
              "      <td>0.000000</td>\n",
              "      <td>0.000000</td>\n",
              "      <td>51.375000</td>\n",
              "    </tr>\n",
              "    <tr>\n",
              "      <th>2013-03-03</th>\n",
              "      <td>2013</td>\n",
              "      <td>3</td>\n",
              "      <td>3</td>\n",
              "      <td>80.333333</td>\n",
              "      <td>47.541667</td>\n",
              "      <td>62.400551</td>\n",
              "      <td>2349.708333</td>\n",
              "      <td>33.708333</td>\n",
              "      <td>6.562500</td>\n",
              "      <td>1012.566667</td>\n",
              "      <td>-11.991667</td>\n",
              "      <td>0.0</td>\n",
              "      <td>1.400000</td>\n",
              "      <td>6</td>\n",
              "      <td>1</td>\n",
              "      <td>0.041667</td>\n",
              "      <td>0.000000</td>\n",
              "      <td>0.041667</td>\n",
              "      <td>0.041667</td>\n",
              "      <td>0.041667</td>\n",
              "      <td>0.000000</td>\n",
              "      <td>0.041667</td>\n",
              "      <td>0.083333</td>\n",
              "      <td>0.000000</td>\n",
              "      <td>0.083333</td>\n",
              "      <td>0.083333</td>\n",
              "      <td>0.041667</td>\n",
              "      <td>0.083333</td>\n",
              "      <td>0.041667</td>\n",
              "      <td>0.375000</td>\n",
              "      <td>0.000000</td>\n",
              "      <td>120.041667</td>\n",
              "    </tr>\n",
              "    <tr>\n",
              "      <th>2013-03-04</th>\n",
              "      <td>2013</td>\n",
              "      <td>3</td>\n",
              "      <td>4</td>\n",
              "      <td>26.500000</td>\n",
              "      <td>18.666667</td>\n",
              "      <td>44.268871</td>\n",
              "      <td>1170.666667</td>\n",
              "      <td>67.250000</td>\n",
              "      <td>9.795833</td>\n",
              "      <td>1015.608333</td>\n",
              "      <td>-11.945833</td>\n",
              "      <td>0.0</td>\n",
              "      <td>1.541667</td>\n",
              "      <td>0</td>\n",
              "      <td>0</td>\n",
              "      <td>0.083333</td>\n",
              "      <td>0.000000</td>\n",
              "      <td>0.083333</td>\n",
              "      <td>0.083333</td>\n",
              "      <td>0.041667</td>\n",
              "      <td>0.041667</td>\n",
              "      <td>0.000000</td>\n",
              "      <td>0.000000</td>\n",
              "      <td>0.041667</td>\n",
              "      <td>0.041667</td>\n",
              "      <td>0.083333</td>\n",
              "      <td>0.083333</td>\n",
              "      <td>0.041667</td>\n",
              "      <td>0.166667</td>\n",
              "      <td>0.166667</td>\n",
              "      <td>0.041667</td>\n",
              "      <td>51.291667</td>\n",
              "    </tr>\n",
              "    <tr>\n",
              "      <th>2013-03-05</th>\n",
              "      <td>2013</td>\n",
              "      <td>3</td>\n",
              "      <td>5</td>\n",
              "      <td>136.708333</td>\n",
              "      <td>72.640257</td>\n",
              "      <td>63.216460</td>\n",
              "      <td>1376.747869</td>\n",
              "      <td>84.375000</td>\n",
              "      <td>6.750000</td>\n",
              "      <td>1008.883333</td>\n",
              "      <td>-7.741667</td>\n",
              "      <td>0.0</td>\n",
              "      <td>0.841667</td>\n",
              "      <td>1</td>\n",
              "      <td>0</td>\n",
              "      <td>0.083333</td>\n",
              "      <td>0.041667</td>\n",
              "      <td>0.041667</td>\n",
              "      <td>0.041667</td>\n",
              "      <td>0.125000</td>\n",
              "      <td>0.000000</td>\n",
              "      <td>0.083333</td>\n",
              "      <td>0.041667</td>\n",
              "      <td>0.000000</td>\n",
              "      <td>0.250000</td>\n",
              "      <td>0.000000</td>\n",
              "      <td>0.000000</td>\n",
              "      <td>0.000000</td>\n",
              "      <td>0.125000</td>\n",
              "      <td>0.166667</td>\n",
              "      <td>0.000000</td>\n",
              "      <td>172.541667</td>\n",
              "    </tr>\n",
              "  </tbody>\n",
              "</table>\n",
              "</div>"
            ],
            "text/plain": [
              "            year  month  day  ...    wd_WNW    wd_WSW        PM10\n",
              "date                          ...                                \n",
              "2013-03-01  2013      3    1  ...  0.125000  0.000000   16.875000\n",
              "2013-03-02  2013      3    2  ...  0.000000  0.000000   51.375000\n",
              "2013-03-03  2013      3    3  ...  0.375000  0.000000  120.041667\n",
              "2013-03-04  2013      3    4  ...  0.166667  0.041667   51.291667\n",
              "2013-03-05  2013      3    5  ...  0.166667  0.000000  172.541667\n",
              "\n",
              "[5 rows x 32 columns]"
            ]
          },
          "metadata": {
            "tags": []
          },
          "execution_count": 221
        }
      ]
    },
    {
      "cell_type": "code",
      "metadata": {
        "id": "cZtSCLENpMa7",
        "colab_type": "code",
        "colab": {}
      },
      "source": [
        "df = df.iloc[:-4,:]"
      ],
      "execution_count": 222,
      "outputs": []
    },
    {
      "cell_type": "code",
      "metadata": {
        "id": "wbN21aaxQ9Qo",
        "colab_type": "code",
        "colab": {}
      },
      "source": [
        "for field in cnames:\n",
        "    df[field] = (df[field] - df[field].min())/(df[field].max() - df[field].min())"
      ],
      "execution_count": 223,
      "outputs": []
    },
    {
      "cell_type": "code",
      "metadata": {
        "id": "YpmQvmpsGAyM",
        "colab_type": "code",
        "colab": {
          "base_uri": "https://localhost:8080/",
          "height": 144
        },
        "outputId": "7af2c44b-48fb-40c0-93a3-e95f82115bf7"
      },
      "source": [
        "train_x = df['PM10'][:-4]\n",
        "test_x = df['PM10'][-4:]\n",
        "train_x.head()"
      ],
      "execution_count": 224,
      "outputs": [
        {
          "output_type": "execute_result",
          "data": {
            "text/plain": [
              "date\n",
              "2013-03-01    0.018881\n",
              "2013-03-02    0.080672\n",
              "2013-03-03    0.203657\n",
              "2013-03-04    0.080522\n",
              "2013-03-05    0.297687\n",
              "Freq: D, Name: PM10, dtype: float64"
            ]
          },
          "metadata": {
            "tags": []
          },
          "execution_count": 224
        }
      ]
    },
    {
      "cell_type": "code",
      "metadata": {
        "id": "EhcJ1E18JXeh",
        "colab_type": "code",
        "colab": {
          "base_uri": "https://localhost:8080/",
          "height": 126
        },
        "outputId": "3b7f1b97-188e-44d7-efe1-f70f69e3d13f"
      },
      "source": [
        "test_x.head()"
      ],
      "execution_count": 225,
      "outputs": [
        {
          "output_type": "execute_result",
          "data": {
            "text/plain": [
              "date\n",
              "2017-02-21    0.163574\n",
              "2017-02-22    0.142923\n",
              "2017-02-23    0.060000\n",
              "2017-02-24    0.082985\n",
              "Freq: D, Name: PM10, dtype: float64"
            ]
          },
          "metadata": {
            "tags": []
          },
          "execution_count": 225
        }
      ]
    },
    {
      "cell_type": "code",
      "metadata": {
        "id": "V47qQUZSJm4l",
        "colab_type": "code",
        "colab": {
          "base_uri": "https://localhost:8080/",
          "height": 35
        },
        "outputId": "2fc7718c-9ffb-4f3d-9239-c7ebab6c0a9d"
      },
      "source": [
        "train_x.shape"
      ],
      "execution_count": 226,
      "outputs": [
        {
          "output_type": "execute_result",
          "data": {
            "text/plain": [
              "(1453,)"
            ]
          },
          "metadata": {
            "tags": []
          },
          "execution_count": 226
        }
      ]
    },
    {
      "cell_type": "code",
      "metadata": {
        "id": "gtIBK_kb4DX8",
        "colab_type": "code",
        "colab": {
          "base_uri": "https://localhost:8080/",
          "height": 53
        },
        "outputId": "8e099fe2-3140-48fc-da55-5ead3a926cdf"
      },
      "source": [
        "#'''PROPHET GENERAL MODEL'''\n",
        "from fbprophet import Prophet\n",
        "pro_train = pd.DataFrame(index = range(0,len(train_x)))\n",
        "pro_train['ds'] = train_x.index\n",
        "pro_train['y'] = train_x.values\n",
        "\n",
        "prop = Prophet(weekly_seasonality = True)\n",
        "prop.fit(pro_train)\n",
        "future = prop.make_future_dataframe(periods = 4)\n",
        "forecast = prop.predict(future)\n",
        "print(forecast.shape)"
      ],
      "execution_count": 227,
      "outputs": [
        {
          "output_type": "stream",
          "text": [
            "INFO:fbprophet:Disabling daily seasonality. Run prophet with daily_seasonality=True to override this.\n"
          ],
          "name": "stderr"
        },
        {
          "output_type": "stream",
          "text": [
            "(1457, 19)\n"
          ],
          "name": "stdout"
        }
      ]
    },
    {
      "cell_type": "code",
      "metadata": {
        "id": "jE89zMgf5G34",
        "colab_type": "code",
        "colab": {
          "base_uri": "https://localhost:8080/",
          "height": 35
        },
        "outputId": "18e744b5-2b6b-47a9-cbb5-8e09ef7d5381"
      },
      "source": [
        "forecast = forecast.set_index(forecast['ds'])\n",
        "#forecast = forecast['2015']\n",
        "#forecast = forecast['2015-10-25':]\n",
        "forecast_extracted = forecast[-4:]\n",
        "print(forecast_extracted.shape)"
      ],
      "execution_count": 228,
      "outputs": [
        {
          "output_type": "stream",
          "text": [
            "(4, 19)\n"
          ],
          "name": "stdout"
        }
      ]
    },
    {
      "cell_type": "code",
      "metadata": {
        "id": "FzCWYYxkLkUB",
        "colab_type": "code",
        "colab": {
          "base_uri": "https://localhost:8080/",
          "height": 126
        },
        "outputId": "60a6566a-9a8f-4f21-b254-29fa8a62f095"
      },
      "source": [
        "forecast_extracted.columns"
      ],
      "execution_count": 229,
      "outputs": [
        {
          "output_type": "execute_result",
          "data": {
            "text/plain": [
              "Index(['ds', 'trend', 'yhat_lower', 'yhat_upper', 'trend_lower', 'trend_upper',\n",
              "       'additive_terms', 'additive_terms_lower', 'additive_terms_upper',\n",
              "       'weekly', 'weekly_lower', 'weekly_upper', 'yearly', 'yearly_lower',\n",
              "       'yearly_upper', 'multiplicative_terms', 'multiplicative_terms_lower',\n",
              "       'multiplicative_terms_upper', 'yhat'],\n",
              "      dtype='object')"
            ]
          },
          "metadata": {
            "tags": []
          },
          "execution_count": 229
        }
      ]
    },
    {
      "cell_type": "code",
      "metadata": {
        "id": "Nq5CoiNOWdNd",
        "colab_type": "code",
        "colab": {}
      },
      "source": [
        "y_test = test_x\n",
        "y_hat = forecast_extracted['yhat'].values\n",
        "y_hat_upper = forecast_extracted['yhat_upper'].values\n",
        "y_hat_lower = forecast_extracted['yhat_lower'].values"
      ],
      "execution_count": 230,
      "outputs": []
    },
    {
      "cell_type": "code",
      "metadata": {
        "id": "ZT5utPTkL8Sm",
        "colab_type": "code",
        "colab": {}
      },
      "source": [
        "y_hat = (y_hat*std_dev)+mean\n",
        "y_test = (y_test*std_dev)+mean\n",
        "y_hat_upper = (y_hat_upper*std_dev)+mean\n",
        "y_hat_lower = (y_hat_lower*std_dev)+mean"
      ],
      "execution_count": 231,
      "outputs": []
    },
    {
      "cell_type": "code",
      "metadata": {
        "id": "AJEMb3TfMlaF",
        "colab_type": "code",
        "colab": {
          "base_uri": "https://localhost:8080/",
          "height": 53
        },
        "outputId": "c151f160-bd9d-46e5-dbbb-935f7503d7ff"
      },
      "source": [
        "print(y_hat)\n",
        "print(y_test.values)"
      ],
      "execution_count": 232,
      "outputs": [
        {
          "output_type": "stream",
          "text": [
            "[218.94654621 220.0895036  224.97956095 234.54538519]\n",
            "[164.26572099 143.77988776  61.52        84.32119403]\n"
          ],
          "name": "stdout"
        }
      ]
    },
    {
      "cell_type": "code",
      "metadata": {
        "id": "2kLz_jh_6ACG",
        "colab_type": "code",
        "colab": {
          "base_uri": "https://localhost:8080/",
          "height": 483
        },
        "outputId": "77b4a437-c1e1-4edc-a3ed-0c93e6b0cf9c"
      },
      "source": [
        "plt.plot(y_test.values, label = 'Original')\n",
        "plt.plot(y_hat, label = 'Predicted')\n",
        "plt.plot(y_hat_upper, label = 'Upper Confidence')\n",
        "plt.plot(y_hat_lower, label = 'Lower Confidence')\n",
        "plt.legend()\n",
        "plt.show()"
      ],
      "execution_count": 233,
      "outputs": [
        {
          "output_type": "display_data",
          "data": {
            "image/png": "[encoded data removed]",
            "text/plain": [
              "<Figure size 1080x576 with 1 Axes>"
            ]
          },
          "metadata": {
            "tags": [],
            "needs_background": "light"
          }
        }
      ]
    },
    {
      "cell_type": "code",
      "metadata": {
        "id": "TjIlFZP9szcN",
        "colab_type": "code",
        "colab": {
          "base_uri": "https://localhost:8080/",
          "height": 90
        },
        "outputId": "d07c0846-d3e5-4b45-a782-0debfd03c5e5"
      },
      "source": [
        "from sklearn.metrics import mean_squared_error\n",
        "from sklearn.metrics import mean_absolute_error\n",
        "from math import sqrt\n",
        "def mean_absolute_percentage_error(y_true, y_pred): \n",
        "    return np.mean(np.abs((y_true - y_pred) / y_true)) * 100\n",
        "\n",
        "\n",
        "rms_new = sqrt(mean_squared_error(y_test, y_hat))\n",
        "print(rms_new)\n",
        "\n",
        "mse_new = mean_squared_error(y_test, y_hat)\n",
        "print(mse_new)\n",
        "\n",
        "mae_new = mean_absolute_error(y_test, y_hat)\n",
        "print(mae_new)\n",
        "\n",
        "mape_new = mean_absolute_percentage_error(y_test, y_hat)\n",
        "print(mape_new)"
      ],
      "execution_count": 234,
      "outputs": [
        {
          "output_type": "stream",
          "text": [
            "120.51917460441733\n",
            "14524.871447330032\n",
            "111.16854828980523\n",
            "132.555135152247\n"
          ],
          "name": "stdout"
        }
      ]
    },
    {
      "cell_type": "code",
      "metadata": {
        "id": "YLuFmWWVtC3_",
        "colab_type": "code",
        "colab": {}
      },
      "source": [
        ""
      ],
      "execution_count": 234,
      "outputs": []
    }
  ]
}